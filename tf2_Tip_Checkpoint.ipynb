{
 "cells": [
  {
   "cell_type": "markdown",
   "id": "0f45f329",
   "metadata": {},
   "source": [
    "# Checkpoint\n",
    "- tf1.x와 tf2.x 일부 호환됨"
   ]
  },
  {
   "cell_type": "code",
   "execution_count": 1,
   "id": "38f3c926",
   "metadata": {},
   "outputs": [
    {
     "name": "stdout",
     "output_type": "stream",
     "text": [
      "2.5.0\n"
     ]
    }
   ],
   "source": [
    "import tensorflow as tf\n",
    "\n",
    "print(tf.__version__)"
   ]
  },
  {
   "cell_type": "markdown",
   "id": "3e5f8f87",
   "metadata": {},
   "source": [
    "## 1. Checkpoint State Protocol Buffer \n",
    "\n",
    "- tf.train.get_checkpoint_state(saved_dir_path) : 지정 폴더에서 모든 파일 읽어옴\n",
    "- tf.train.latest_checkpoint(saved_dir_path) : 지정 폴더에 가장 최신 파일만 읽어옴"
   ]
  },
  {
   "cell_type": "markdown",
   "id": "3c461019",
   "metadata": {},
   "source": [
    "### 1-1. tf.train.get_checkpoint_state(saved_dir_path)"
   ]
  },
  {
   "cell_type": "code",
   "execution_count": 2,
   "id": "22631467",
   "metadata": {},
   "outputs": [
    {
     "name": "stdout",
     "output_type": "stream",
     "text": [
      "<class 'tensorflow.python.training.checkpoint_state_pb2.CheckpointState'>\n",
      "model_checkpoint_path: \"saved/my_test_sess3\"\n",
      "all_model_checkpoint_paths: \"saved/my_test_sess3\"\n",
      "\n"
     ]
    }
   ],
   "source": [
    "ckpt_state = tf.train.get_checkpoint_state(\"saved\")\n",
    "print(type(ckpt_state))\n",
    "print(ckpt_state)"
   ]
  },
  {
   "cell_type": "markdown",
   "id": "68089bef",
   "metadata": {},
   "source": [
    "- model_checkpoint_path : 가장 최근 ckp"
   ]
  },
  {
   "cell_type": "code",
   "execution_count": 3,
   "id": "234b4191",
   "metadata": {},
   "outputs": [
    {
     "data": {
      "text/plain": [
       "'saved/my_test_sess3'"
      ]
     },
     "execution_count": 3,
     "metadata": {},
     "output_type": "execute_result"
    }
   ],
   "source": [
    "ckpt_state.model_checkpoint_path"
   ]
  },
  {
   "cell_type": "markdown",
   "id": "cb113452",
   "metadata": {},
   "source": [
    "- all_model_checkpoint_paths : 모든 ckp를 list로 보여줌"
   ]
  },
  {
   "cell_type": "code",
   "execution_count": 4,
   "id": "b4707e00",
   "metadata": {},
   "outputs": [
    {
     "data": {
      "text/plain": [
       "['saved/my_test_sess3']"
      ]
     },
     "execution_count": 4,
     "metadata": {},
     "output_type": "execute_result"
    }
   ],
   "source": [
    "ckpt_state.all_model_checkpoint_paths"
   ]
  },
  {
   "cell_type": "markdown",
   "id": "3e29853e",
   "metadata": {},
   "source": [
    "### 1-2. tf.train.latest_checkpoint(saved_dir_path)"
   ]
  },
  {
   "cell_type": "code",
   "execution_count": 5,
   "id": "0a258647",
   "metadata": {},
   "outputs": [
    {
     "data": {
      "text/plain": [
       "'saved/my_test_sess3'"
      ]
     },
     "execution_count": 5,
     "metadata": {},
     "output_type": "execute_result"
    }
   ],
   "source": [
    "recent_ckpt_job_path = tf.train.latest_checkpoint(\"saved\")\n",
    "\n",
    "recent_ckpt_job_path"
   ]
  },
  {
   "cell_type": "markdown",
   "id": "bc217a88",
   "metadata": {},
   "source": [
    "## 2. Checkpoint function"
   ]
  },
  {
   "cell_type": "code",
   "execution_count": 6,
   "id": "3040332b",
   "metadata": {},
   "outputs": [],
   "source": [
    "import os"
   ]
  },
  {
   "cell_type": "code",
   "execution_count": 13,
   "id": "a2265633",
   "metadata": {},
   "outputs": [
    {
     "ename": "ValueError",
     "evalue": "invalid literal for int() with base 10: 'my_test_sess3'",
     "output_type": "error",
     "traceback": [
      "\u001b[0;31m---------------------------------------------------------------------------\u001b[0m",
      "\u001b[0;31mValueError\u001b[0m                                Traceback (most recent call last)",
      "\u001b[0;32m<ipython-input-13-9a4e00498aea>\u001b[0m in \u001b[0;36m<module>\u001b[0;34m\u001b[0m\n\u001b[1;32m      3\u001b[0m     \u001b[0;31m#checkpoint = tf.train.Checkpoint(dnn=model)\u001b[0m\u001b[0;34m\u001b[0m\u001b[0;34m\u001b[0m\u001b[0;34m\u001b[0m\u001b[0m\n\u001b[1;32m      4\u001b[0m     \u001b[0;31m#checkpoint.restore(save_path=os.path.join(checkpoint_dir, ckpt_name))\u001b[0m\u001b[0;34m\u001b[0m\u001b[0;34m\u001b[0m\u001b[0;34m\u001b[0m\u001b[0m\n\u001b[0;32m----> 5\u001b[0;31m     \u001b[0mcounter\u001b[0m \u001b[0;34m=\u001b[0m \u001b[0mint\u001b[0m\u001b[0;34m(\u001b[0m\u001b[0mckpt_name\u001b[0m\u001b[0;34m.\u001b[0m\u001b[0msplit\u001b[0m\u001b[0;34m(\u001b[0m\u001b[0;34m'-'\u001b[0m\u001b[0;34m)\u001b[0m\u001b[0;34m[\u001b[0m\u001b[0;34m-\u001b[0m\u001b[0;36m1\u001b[0m\u001b[0;34m]\u001b[0m\u001b[0;34m)\u001b[0m\u001b[0;34m\u001b[0m\u001b[0;34m\u001b[0m\u001b[0m\n\u001b[0m\u001b[1;32m      6\u001b[0m     \u001b[0mprint\u001b[0m\u001b[0;34m(\u001b[0m\u001b[0;34m\" [*] Success to read {}\"\u001b[0m\u001b[0;34m.\u001b[0m\u001b[0mformat\u001b[0m\u001b[0;34m(\u001b[0m\u001b[0mckpt_name\u001b[0m\u001b[0;34m)\u001b[0m\u001b[0;34m)\u001b[0m\u001b[0;34m\u001b[0m\u001b[0;34m\u001b[0m\u001b[0m\n\u001b[1;32m      7\u001b[0m     \u001b[0;31m#return True, counter\u001b[0m\u001b[0;34m\u001b[0m\u001b[0;34m\u001b[0m\u001b[0;34m\u001b[0m\u001b[0m\n",
      "\u001b[0;31mValueError\u001b[0m: invalid literal for int() with base 10: 'my_test_sess3'"
     ]
    }
   ],
   "source": [
    "if ckpt_state :\n",
    "    ckpt_name = os.path.basename(ckpt_state.model_checkpoint_path)\n",
    "    #checkpoint = tf.train.Checkpoint(dnn=model)\n",
    "    #checkpoint.restore(save_path=os.path.join(checkpoint_dir, ckpt_name))\n",
    "    counter = int(ckpt_name.split('-')[-1])\n",
    "    print(\" [*] Success to read {}\".format(ckpt_name))\n",
    "    #return True, counter\n",
    "else:\n",
    "    print(\" [*] Failed to find a checkpoint\")\n",
    "    #return False, 0"
   ]
  },
  {
   "cell_type": "code",
   "execution_count": null,
   "id": "a67b380f",
   "metadata": {},
   "outputs": [],
   "source": []
  },
  {
   "cell_type": "code",
   "execution_count": null,
   "id": "180434e2",
   "metadata": {},
   "outputs": [],
   "source": []
  },
  {
   "cell_type": "markdown",
   "id": "prescribed-giant",
   "metadata": {},
   "source": [
    "- Reference\n",
    " * http://jaynewho.com/post/8\n",
    " * https://runebook.dev/ko/docs/tensorflow/train/checkpoint"
   ]
  }
 ],
 "metadata": {
  "kernelspec": {
   "display_name": "Python 3",
   "language": "python",
   "name": "python3"
  },
  "language_info": {
   "codemirror_mode": {
    "name": "ipython",
    "version": 3
   },
   "file_extension": ".py",
   "mimetype": "text/x-python",
   "name": "python",
   "nbconvert_exporter": "python",
   "pygments_lexer": "ipython3",
   "version": "3.8.8"
  }
 },
 "nbformat": 4,
 "nbformat_minor": 5
}
