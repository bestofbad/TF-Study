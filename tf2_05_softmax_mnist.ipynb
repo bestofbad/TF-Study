{
 "cells": [
  {
   "cell_type": "markdown",
   "id": "c4d949b3",
   "metadata": {},
   "source": [
    "# 05. Softmax MNIST"
   ]
  },
  {
   "cell_type": "code",
   "execution_count": 1,
   "id": "836b24c7",
   "metadata": {},
   "outputs": [
    {
     "data": {
      "text/plain": [
       "'2.5.0'"
      ]
     },
     "execution_count": 1,
     "metadata": {},
     "output_type": "execute_result"
    }
   ],
   "source": [
    "import tensorflow as tf\n",
    "import numpy as np\n",
    "from tensorflow.keras.utils import to_categorical\n",
    "from tensorflow.keras.datasets import mnist\n",
    "from time import time\n",
    "import os\n",
    "\n",
    "tf.__version__"
   ]
  },
  {
   "cell_type": "markdown",
   "id": "e68a3774",
   "metadata": {},
   "source": [
    "## 1. Data load & pre-processing function"
   ]
  },
  {
   "cell_type": "code",
   "execution_count": null,
   "id": "56c7edb0",
   "metadata": {},
   "outputs": [],
   "source": [
    "(train_data, train_labels), (test_data, test_labels) = mnist.load_data()"
   ]
  },
  {
   "cell_type": "code",
   "execution_count": null,
   "id": "1e606413",
   "metadata": {},
   "outputs": [],
   "source": [
    "print(\"train_data.shape : \", train_data.shape)\n",
    "print(\"train_labels.shape : \", train_labels.shape)\n",
    "print(\"test_data.shape : \", test_data.shape)\n",
    "print(\"test_labels.shape : \", test_labels.shape)"
   ]
  },
  {
   "cell_type": "code",
   "execution_count": null,
   "id": "388f3f51",
   "metadata": {},
   "outputs": [],
   "source": [
    "# data max 값 확인\n",
    "train_data[0].max()"
   ]
  },
  {
   "cell_type": "code",
   "execution_count": null,
   "id": "dbb7db55",
   "metadata": {},
   "outputs": [],
   "source": [
    "# chanel 차원 추가 : [N, 28, 28] -> [N, 28, 28, 1]\n",
    "print(np.expand_dims(train_data, axis=-1).shape)\n",
    "\n",
    "# 분류 갯수 추가 [N,] -> [N, 10]\n",
    "print(to_categorical(train_labels, 10).shape)"
   ]
  },
  {
   "cell_type": "code",
   "execution_count": 2,
   "id": "1329ff2f",
   "metadata": {},
   "outputs": [],
   "source": [
    "def load_mnist() :\n",
    "    (train_data, train_labels), (test_data, test_labels) = mnist.load_data()\n",
    "    train_data = np.expand_dims(train_data, axis=-1)  # [N, 28, 28] -> [N, 28, 28, 1]\n",
    "    test_data = np.expand_dims(test_data, axis=-1)    # [N, 28, 28] -> [N, 28, 28, 1]\n",
    "\n",
    "    train_data, test_data = normalize(train_data, test_data)\n",
    "\n",
    "    train_labels = to_categorical(train_labels, 10)   # [N,] -> [N, 10]\n",
    "    test_labels = to_categorical(test_labels, 10)     # [N,] -> [N, 10]\n",
    "\n",
    "    return train_data, train_labels, test_data, test_labels"
   ]
  },
  {
   "cell_type": "code",
   "execution_count": 3,
   "id": "e70decd6",
   "metadata": {},
   "outputs": [],
   "source": [
    "def normalize(train_data, test_data):\n",
    "    train_data = train_data.astype(np.float32) / 255.0\n",
    "    test_data = test_data.astype(np.float32) / 255.0\n",
    "\n",
    "    return train_data, test_data"
   ]
  },
  {
   "cell_type": "markdown",
   "id": "ba838ee4",
   "metadata": {},
   "source": [
    "## 2. Performance function"
   ]
  },
  {
   "cell_type": "markdown",
   "id": "e916660c",
   "metadata": {},
   "source": [
    "- Loss 함수 : tf.keras.losses.categorical_crossentropy(y_true, y_pred, from_logits=False, label_smoothing=0)"
   ]
  },
  {
   "cell_type": "code",
   "execution_count": null,
   "id": "a41583d0",
   "metadata": {},
   "outputs": [],
   "source": [
    "y_true = [[0, 1, 0], [0, 0, 1]]\n",
    "y_pred = [[0.05, 0.95, 0], [0.1, 0.8, 0.1]]\n",
    "loss = tf.keras.losses.categorical_crossentropy(y_true, y_pred)\n",
    "print (loss.numpy())"
   ]
  },
  {
   "cell_type": "code",
   "execution_count": 4,
   "id": "da3d7fbb",
   "metadata": {},
   "outputs": [],
   "source": [
    "def loss_fn(model, images, labels):\n",
    "    logits = model(images, training=True)    \n",
    "    loss = tf.reduce_mean(tf.keras.losses.categorical_crossentropy(y_pred=logits, y_true=labels, \n",
    "                                                                   from_logits=True))\n",
    "    return loss"
   ]
  },
  {
   "cell_type": "code",
   "execution_count": 5,
   "id": "5e492d72",
   "metadata": {},
   "outputs": [],
   "source": [
    "def accuracy_fn(model, images, labels):\n",
    "    logits = model(images, training=False)\n",
    "    prediction = tf.equal(tf.argmax(logits, -1), tf.argmax(labels, -1))\n",
    "    accuracy = tf.reduce_mean(tf.cast(prediction, tf.float32))\n",
    "    return accuracy"
   ]
  },
  {
   "cell_type": "code",
   "execution_count": 6,
   "id": "03dbdd73",
   "metadata": {},
   "outputs": [],
   "source": [
    "def grad(model, images, labels):\n",
    "    with tf.GradientTape() as tape:\n",
    "        loss = loss_fn(model, images, labels)\n",
    "    return tape.gradient(loss, model.variables)"
   ]
  },
  {
   "cell_type": "markdown",
   "id": "477ab6c1",
   "metadata": {},
   "source": [
    "## 3. Model function"
   ]
  },
  {
   "cell_type": "code",
   "execution_count": 7,
   "id": "495b2626",
   "metadata": {},
   "outputs": [],
   "source": [
    "def flatten() :\n",
    "    return tf.keras.layers.Flatten()\n",
    "\n",
    "def dense(label_dim, weight_init) :\n",
    "    return tf.keras.layers.Dense(units=label_dim, use_bias=True, kernel_initializer=weight_init)\n",
    "\n",
    "def sigmoid() :\n",
    "    return tf.keras.layers.Activation(tf.keras.activations.sigmoid)"
   ]
  },
  {
   "cell_type": "markdown",
   "id": "7a291cd7",
   "metadata": {},
   "source": [
    "## 4. Modeling"
   ]
  },
  {
   "cell_type": "markdown",
   "id": "2b933f04",
   "metadata": {},
   "source": [
    "### 4-1. class version"
   ]
  },
  {
   "cell_type": "code",
   "execution_count": 8,
   "id": "35869fa5",
   "metadata": {},
   "outputs": [],
   "source": [
    "class create_model_class(tf.keras.Model):\n",
    "    def __init__(self, label_dim):\n",
    "        super(create_model_class, self).__init__()\n",
    "        weight_init = tf.keras.initializers.RandomNormal()\n",
    "\n",
    "        self.model = tf.keras.Sequential()\n",
    "        self.model.add(flatten())\n",
    "\n",
    "        for i in range(2):\n",
    "            self.model.add(dense(256, weight_init))\n",
    "            self.model.add(sigmoid())\n",
    "\n",
    "        self.model.add(dense(label_dim, weight_init))\n",
    "\n",
    "    def call(self, x, training=None, mask=None):\n",
    "        x = self.model(x)\n",
    "\n",
    "        return x"
   ]
  },
  {
   "cell_type": "markdown",
   "id": "7587db02",
   "metadata": {},
   "source": [
    "### 4-2. function"
   ]
  },
  {
   "cell_type": "code",
   "execution_count": 9,
   "id": "34eafb65",
   "metadata": {},
   "outputs": [],
   "source": [
    "def create_model_function(label_dim) :\n",
    "    weight_init = tf.keras.initializers.RandomNormal()\n",
    "\n",
    "    model = tf.keras.Sequential()\n",
    "    model.add(flatten())\n",
    "\n",
    "    for i in range(2) :\n",
    "        model.add(dense(256, weight_init))\n",
    "        model.add(sigmoid())\n",
    "\n",
    "    model.add(dense(label_dim, weight_init))\n",
    "\n",
    "    return model"
   ]
  },
  {
   "cell_type": "markdown",
   "id": "37fc01e8",
   "metadata": {},
   "source": [
    "## 5. Define data & hyper-parameter"
   ]
  },
  {
   "cell_type": "code",
   "execution_count": 10,
   "id": "e9553938",
   "metadata": {},
   "outputs": [],
   "source": [
    "\"\"\" dataset \"\"\"\n",
    "train_x, train_y, test_x, test_y = load_mnist()\n",
    "\n",
    "\"\"\" parameters \"\"\"\n",
    "learning_rate = 0.001\n",
    "batch_size = 128\n",
    "\n",
    "training_epochs = 1\n",
    "training_iterations = len(train_x) // batch_size\n",
    "\n",
    "label_dim = 10\n",
    "\n",
    "train_flag = True"
   ]
  },
  {
   "cell_type": "markdown",
   "id": "e7794f01",
   "metadata": {},
   "source": [
    "## 6. tf.data.Dataset (API) 설정"
   ]
  },
  {
   "cell_type": "markdown",
   "id": "dd435270",
   "metadata": {},
   "source": [
    "### 6-1. tf.data.Dataset 사용법"
   ]
  },
  {
   "cell_type": "code",
   "execution_count": null,
   "id": "12e42aa4",
   "metadata": {},
   "outputs": [],
   "source": [
    "test_data = [[k, k+2] for k in range(4)]\n",
    "test_dataset1 = tf.data.Dataset.from_tensor_slices(test_data)\n",
    "\n",
    "list(test_dataset1)"
   ]
  },
  {
   "cell_type": "code",
   "execution_count": null,
   "id": "79486457",
   "metadata": {},
   "outputs": [],
   "source": [
    "# 각 메서드를 하나씩 설정하는 방식\n",
    "test_dataset1 = test_dataset1.shuffle(buffer_size=20) \n",
    "list(test_dataset1)"
   ]
  },
  {
   "cell_type": "code",
   "execution_count": null,
   "id": "3455ff49",
   "metadata": {},
   "outputs": [],
   "source": [
    "test_dataset1 = test_dataset1.batch(4)\n",
    "list(test_dataset1)"
   ]
  },
  {
   "cell_type": "code",
   "execution_count": null,
   "id": "24b45923",
   "metadata": {},
   "outputs": [],
   "source": [
    "# 각 메서드를 한꺼번에 설정하는 방식\n",
    "test_dataset2 = tf.data.Dataset.from_tensor_slices(test_data).\\\n",
    "    shuffle(buffer_size=20).\\\n",
    "    batch(4)\n",
    "list(test_dataset2)"
   ]
  },
  {
   "cell_type": "markdown",
   "id": "d1a91dd6",
   "metadata": {},
   "source": [
    "### 6-2. tf.data.Dataset 설정"
   ]
  },
  {
   "cell_type": "code",
   "execution_count": 11,
   "id": "35f1e54b",
   "metadata": {},
   "outputs": [],
   "source": [
    "\"\"\" Graph Input using Dataset API \"\"\"\n",
    "train_dataset = tf.data.Dataset.from_tensor_slices((train_x, train_y)).\\\n",
    "    shuffle(buffer_size=100000).\\\n",
    "    prefetch(buffer_size=batch_size).\\\n",
    "    batch(batch_size, drop_remainder=True)\n",
    "\n",
    "test_dataset = tf.data.Dataset.from_tensor_slices((test_x, test_y)).\\\n",
    "    shuffle(buffer_size=100000).\\\n",
    "    prefetch(buffer_size=len(test_x)).\\\n",
    "    batch(len(test_x))"
   ]
  },
  {
   "cell_type": "markdown",
   "id": "5daca9c3",
   "metadata": {},
   "source": [
    "## 7. Checkpoint function"
   ]
  },
  {
   "cell_type": "code",
   "execution_count": 12,
   "id": "221aee52",
   "metadata": {},
   "outputs": [],
   "source": [
    "def load(model, checkpoint_dir):\n",
    "    print(\" [*] Reading checkpoints...\")\n",
    "\n",
    "    ckpt = tf.train.get_checkpoint_state(checkpoint_dir)\n",
    "    if ckpt :\n",
    "        ckpt_name = os.path.basename(ckpt.model_checkpoint_path)\n",
    "        checkpoint = tf.train.Checkpoint(dnn=model)\n",
    "        checkpoint.restore(save_path=os.path.join(checkpoint_dir, ckpt_name))\n",
    "        counter = int(ckpt_name.split('-')[1])\n",
    "        print(\" [*] Success to read {}\".format(ckpt_name))\n",
    "        return True, counter\n",
    "    else:\n",
    "        print(\" [*] Failed to find a checkpoint\")\n",
    "        return False, 0\n",
    "\n",
    "def check_folder(dir):\n",
    "    if not os.path.exists(dir):\n",
    "        os.makedirs(dir)\n",
    "    return dir"
   ]
  },
  {
   "cell_type": "markdown",
   "id": "4da78a84",
   "metadata": {},
   "source": [
    "## 8. Define model & optimizer & writer"
   ]
  },
  {
   "cell_type": "code",
   "execution_count": 33,
   "id": "9efdf1fe",
   "metadata": {},
   "outputs": [],
   "source": [
    "\"\"\" Model \"\"\"\n",
    "model = create_model_function(label_dim)\n",
    "\n",
    "\"\"\" Training \"\"\"\n",
    "optimizer = tf.keras.optimizers.Adam(learning_rate=learning_rate)\n",
    "\n",
    "\"\"\" Writer \"\"\"\n",
    "checkpoint_dir = 'checkpoints_2'\n",
    "logs_dir = 'logs_2'\n",
    "\n",
    "model_dir = 'nn_softmax_2'\n",
    "\n",
    "checkpoint_dir = os.path.join(checkpoint_dir, model_dir)\n",
    "check_folder(checkpoint_dir)\n",
    "checkpoint_prefix = os.path.join(checkpoint_dir, model_dir)\n",
    "logs_dir = os.path.join(logs_dir, model_dir)"
   ]
  },
  {
   "cell_type": "markdown",
   "id": "62e632c4",
   "metadata": {},
   "source": [
    "## 9. Restore checkpoint & start train or test phase"
   ]
  },
  {
   "cell_type": "code",
   "execution_count": 34,
   "id": "116cfaa0",
   "metadata": {},
   "outputs": [
    {
     "name": "stdout",
     "output_type": "stream",
     "text": [
      " [*] Reading checkpoints...\n",
      " [*] Failed to find a checkpoint\n",
      " [!] Load failed...\n",
      "\n",
      "Epoch: [ 0] [    0/  468] time: 0.3471, train_loss: 2.29269266, train_accuracy: 0.1094, test_Accuracy: 0.1028\n",
      "Epoch: [ 0] [   50/  468] time: 5.7919, train_loss: 1.31807733, train_accuracy: 0.6797, test_Accuracy: 0.6518\n",
      "Epoch: [ 0] [  100/  468] time: 11.2474, train_loss: 0.66266477, train_accuracy: 0.8438, test_Accuracy: 0.8411\n",
      "Epoch: [ 0] [  150/  468] time: 16.6548, train_loss: 0.39083350, train_accuracy: 0.9141, test_Accuracy: 0.8800\n",
      "Epoch: [ 0] [  200/  468] time: 22.0841, train_loss: 0.40605819, train_accuracy: 0.8594, test_Accuracy: 0.8999\n",
      "Epoch: [ 0] [  250/  468] time: 27.5656, train_loss: 0.58887017, train_accuracy: 0.8125, test_Accuracy: 0.8969\n",
      "Epoch: [ 0] [  300/  468] time: 33.0500, train_loss: 0.45505649, train_accuracy: 0.8906, test_Accuracy: 0.9117\n",
      "Epoch: [ 0] [  350/  468] time: 38.5226, train_loss: 0.20979196, train_accuracy: 0.9609, test_Accuracy: 0.9164\n",
      "Epoch: [ 0] [  400/  468] time: 43.9378, train_loss: 0.20234999, train_accuracy: 0.9453, test_Accuracy: 0.9197\n",
      "Epoch: [ 0] [  450/  468] time: 49.4177, train_loss: 0.36496979, train_accuracy: 0.8828, test_Accuracy: 0.9240\n"
     ]
    }
   ],
   "source": [
    "if train_flag :\n",
    "\n",
    "    checkpoint = tf.train.Checkpoint(dnn=model)\n",
    "\n",
    "    # create writer for tensorboard\n",
    "    summary_writer = tf.summary.create_file_writer(logdir=logs_dir)\n",
    "    start_time = time()\n",
    "\n",
    "    # restore check-point if it exits\n",
    "    could_load, checkpoint_counter = load(model, checkpoint_dir)    \n",
    "\n",
    "    if could_load:\n",
    "        start_epoch = (int)(checkpoint_counter / training_iterations)        \n",
    "        counter = checkpoint_counter        \n",
    "        print(\" [*] Load SUCCESS\")\n",
    "    else:\n",
    "        start_epoch = 0\n",
    "        start_iteration = 0\n",
    "        counter = 0\n",
    "        print(\" [!] Load failed...\")\n",
    "    \n",
    "    # train phase\n",
    "    with summary_writer.as_default():  # for tensorboard\n",
    "        for epoch in range(start_epoch, training_epochs):      # training_epochs = 1\n",
    "            print()\n",
    "            for idx, (train_input, train_label) in enumerate(train_dataset):            \n",
    "                grads = grad(model, train_input, train_label)\n",
    "                optimizer.apply_gradients(grads_and_vars=zip(grads, model.variables))\n",
    "\n",
    "                train_loss = loss_fn(model, train_input, train_label)\n",
    "                train_accuracy = accuracy_fn(model, train_input, train_label)\n",
    "                \n",
    "                for test_input, test_label in test_dataset:                \n",
    "                    test_accuracy = accuracy_fn(model, test_input, test_label)\n",
    "\n",
    "                tf.summary.scalar(name='train_loss', data=train_loss, step=counter)\n",
    "                tf.summary.scalar(name='train_accuracy', data=train_accuracy, step=counter)\n",
    "                tf.summary.scalar(name='test_accuracy', data=test_accuracy, step=counter)\n",
    "                if idx % 50 == 0:\n",
    "                    print(\n",
    "                        \"Epoch: [%2d] [%5d/%5d] time: %4.4f, train_loss: %.8f, train_accuracy: %.4f, test_Accuracy: %.4f\" \\\n",
    "                        % (epoch, idx, training_iterations, time() - start_time, train_loss, train_accuracy,\n",
    "                            test_accuracy))\n",
    "                counter += 1                \n",
    "        checkpoint.save(file_prefix=checkpoint_prefix + '-{}'.format(counter))\n",
    "        \n",
    "# test phase      \n",
    "else :\n",
    "    _, _ = load(network, checkpoint_dir)\n",
    "    for test_input, test_label in test_dataset:    \n",
    "        test_accuracy = accuracy_fn(network, test_input, test_label)\n",
    "\n",
    "    print(\"test_Accuracy: %.4f\" % (test_accuracy))"
   ]
  },
  {
   "cell_type": "markdown",
   "id": "3500e26c",
   "metadata": {},
   "source": [
    "- Reference \n",
    " * https://github.com/deeplearningzerotoall/TensorFlow/blob/master/tf_2.x/lab-10-1-1-mnist_nn_softmax.ipynb"
   ]
  }
 ],
 "metadata": {
  "kernelspec": {
   "display_name": "Python 3",
   "language": "python",
   "name": "python3"
  },
  "language_info": {
   "codemirror_mode": {
    "name": "ipython",
    "version": 3
   },
   "file_extension": ".py",
   "mimetype": "text/x-python",
   "name": "python",
   "nbconvert_exporter": "python",
   "pygments_lexer": "ipython3",
   "version": "3.8.8"
  }
 },
 "nbformat": 4,
 "nbformat_minor": 5
}
