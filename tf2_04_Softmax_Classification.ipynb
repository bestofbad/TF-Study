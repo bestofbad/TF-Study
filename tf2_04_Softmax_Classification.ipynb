{
 "cells": [
  {
   "cell_type": "markdown",
   "id": "c4d949b3",
   "metadata": {},
   "source": [
    "# 04. Softmax Classification"
   ]
  },
  {
   "cell_type": "code",
   "execution_count": 1,
   "id": "836b24c7",
   "metadata": {},
   "outputs": [
    {
     "data": {
      "text/plain": [
       "'2.5.0'"
      ]
     },
     "execution_count": 1,
     "metadata": {},
     "output_type": "execute_result"
    }
   ],
   "source": [
    "import tensorflow as tf\n",
    "import numpy as np\n",
    "\n",
    "tf.__version__"
   ]
  },
  {
   "cell_type": "code",
   "execution_count": 2,
   "id": "fe5e5fff",
   "metadata": {},
   "outputs": [],
   "source": [
    "tf.random.set_seed(1234)        # for reproducibility"
   ]
  },
  {
   "cell_type": "markdown",
   "id": "32af8bfd",
   "metadata": {},
   "source": [
    "## Data 확인 및 가중치 설정"
   ]
  },
  {
   "cell_type": "code",
   "execution_count": 3,
   "id": "7f7898fe",
   "metadata": {},
   "outputs": [],
   "source": [
    "x_data = [[1, 2, 1, 1],\n",
    "          [2, 1, 3, 2],\n",
    "          [3, 1, 3, 4],\n",
    "          [4, 1, 5, 5],\n",
    "          [1, 7, 5, 5],\n",
    "          [1, 2, 5, 6],\n",
    "          [1, 6, 6, 6],\n",
    "          [1, 7, 7, 7]]\n",
    "y_data = [[0, 0, 1],\n",
    "          [0, 0, 1],\n",
    "          [0, 0, 1],\n",
    "          [0, 1, 0],\n",
    "          [0, 1, 0],\n",
    "          [0, 1, 0],\n",
    "          [1, 0, 0],\n",
    "          [1, 0, 0]]\n",
    "\n",
    "# convert into numpy and float format\n",
    "x_data = np.asarray(x_data, dtype=np.float32)\n",
    "y_data = np.asarray(y_data, dtype=np.float32)"
   ]
  },
  {
   "cell_type": "code",
   "execution_count": 4,
   "id": "8e1d9156",
   "metadata": {},
   "outputs": [
    {
     "name": "stdout",
     "output_type": "stream",
     "text": [
      "(8, 4)\n",
      "(8, 3)\n"
     ]
    }
   ],
   "source": [
    "nb_classes = 3   #class의 개수\n",
    "\n",
    "print(x_data.shape)\n",
    "print(y_data.shape)"
   ]
  },
  {
   "cell_type": "code",
   "execution_count": 5,
   "id": "cc783b5f",
   "metadata": {},
   "outputs": [
    {
     "name": "stdout",
     "output_type": "stream",
     "text": [
      "<tf.Variable 'weight:0' shape=(4, 3) dtype=float32, numpy=\n",
      "array([[ 0.8369314 , -0.7342977 ,  1.0402943 ],\n",
      "       [ 0.04035992, -0.7218659 ,  1.0794858 ],\n",
      "       [ 0.9032698 , -0.73601735, -0.36105633],\n",
      "       [-0.60787624,  0.07614239, -0.7211218 ]], dtype=float32)> <tf.Variable 'bias:0' shape=(3,) dtype=float32, numpy=array([1.1468066 , 0.96459925, 0.87830144], dtype=float32)>\n"
     ]
    }
   ],
   "source": [
    "# Weight and bias setting\n",
    "W = tf.Variable(tf.random.normal((4, nb_classes)), name='weight')\n",
    "b = tf.Variable(tf.random.normal((nb_classes,)), name='bias')\n",
    "variables = [W, b]\n",
    "\n",
    "print(W,b)"
   ]
  },
  {
   "cell_type": "markdown",
   "id": "ad0d0079",
   "metadata": {},
   "source": [
    "## Modeling"
   ]
  },
  {
   "cell_type": "code",
   "execution_count": 6,
   "id": "d7abfc48",
   "metadata": {},
   "outputs": [
    {
     "name": "stdout",
     "output_type": "stream",
     "text": [
      "tf.Tensor(\n",
      "[[3.4452534e-01 4.9978672e-03 6.5047675e-01]\n",
      " [9.4447958e-01 4.5562655e-04 5.5064805e-02]\n",
      " [9.4574940e-01 3.7234681e-04 5.3878248e-02]\n",
      " [9.9504590e-01 6.0790699e-06 4.9480950e-03]\n",
      " [4.2045984e-01 2.9557280e-06 5.7953721e-01]\n",
      " [9.9260592e-01 6.2507798e-04 6.7689032e-03]\n",
      " [8.9049131e-01 5.1609854e-06 1.0950344e-01]\n",
      " [9.1940206e-01 9.5655480e-07 8.0596931e-02]], shape=(8, 3), dtype=float32)\n"
     ]
    }
   ],
   "source": [
    "# tf.nn.softmax computes softmax activations\n",
    "# softmax = exp(logits) / reduce_sum(exp(logits), dim)\n",
    "def hypothesis(X):\n",
    "    return tf.nn.softmax(tf.matmul(X, W) + b)\n",
    "\n",
    "print(hypothesis(x_data))"
   ]
  },
  {
   "cell_type": "markdown",
   "id": "aac8af46",
   "metadata": {},
   "source": [
    "## Cost function"
   ]
  },
  {
   "cell_type": "code",
   "execution_count": 7,
   "id": "24a80ffe",
   "metadata": {},
   "outputs": [
    {
     "name": "stdout",
     "output_type": "stream",
     "text": [
      "cost_mean:   tf.Tensor(4.8212996, shape=(), dtype=float32)\n"
     ]
    }
   ],
   "source": [
    "def cost_fn(X, Y):\n",
    "    logits = hypothesis(X)\n",
    "    cost = -tf.reduce_sum(Y * tf.math.log(logits), axis=1)\n",
    "    cost_mean = tf.reduce_mean(cost)\n",
    "    \n",
    "    #print('cost: ', cost)\n",
    "    return cost_mean\n",
    "\n",
    "print('cost_mean:  ', cost_fn(x_data, y_data))"
   ]
  },
  {
   "cell_type": "markdown",
   "id": "afd3d4a2",
   "metadata": {},
   "source": [
    "### GradientTape 기능"
   ]
  },
  {
   "cell_type": "code",
   "execution_count": 8,
   "id": "c42ed7ad",
   "metadata": {},
   "outputs": [
    {
     "name": "stdout",
     "output_type": "stream",
     "text": [
      "tf.Tensor(6.0, shape=(), dtype=float32)\n"
     ]
    }
   ],
   "source": [
    "x = tf.constant(3.0)\n",
    "with tf.GradientTape() as g:\n",
    "    g.watch(x)\n",
    "    y = x * x # x^2\n",
    "dy_dx = g.gradient(y, x) # Will compute to 6.0\n",
    "print(dy_dx)"
   ]
  },
  {
   "cell_type": "code",
   "execution_count": 9,
   "id": "8b25a037",
   "metadata": {},
   "outputs": [
    {
     "name": "stdout",
     "output_type": "stream",
     "text": [
      "[<tf.Tensor: shape=(4, 3), dtype=float32, numpy=\n",
      "array([[ 1.2842344 , -0.74903935, -0.535195  ],\n",
      "       [ 0.9101898 , -1.2484827 ,  0.33829278],\n",
      "       [ 2.1043162 , -1.8736638 , -0.23065293],\n",
      "       [ 2.2285507 , -1.998596  , -0.22995517]], dtype=float32)>, <tf.Tensor: shape=(3,), dtype=float32, numpy=array([ 0.5565949 , -0.37419173, -0.18240319], dtype=float32)>]\n"
     ]
    }
   ],
   "source": [
    "def grad_fn(X, Y):\n",
    "    with tf.GradientTape() as tape:\n",
    "        loss = cost_fn(X, Y)\n",
    "        grads = tape.gradient(loss, variables)\n",
    "\n",
    "        return grads\n",
    "\n",
    "print(grad_fn(x_data, y_data))    # 가중치 각 원소들의 grad 계산"
   ]
  },
  {
   "cell_type": "code",
   "execution_count": 10,
   "id": "a856668f",
   "metadata": {},
   "outputs": [
    {
     "name": "stdout",
     "output_type": "stream",
     "text": [
      "[<tf.Variable 'weight:0' shape=(4, 3) dtype=float32, numpy=\n",
      "array([[ 0.8369314 , -0.7342977 ,  1.0402943 ],\n",
      "       [ 0.04035992, -0.7218659 ,  1.0794858 ],\n",
      "       [ 0.9032698 , -0.73601735, -0.36105633],\n",
      "       [-0.60787624,  0.07614239, -0.7211218 ]], dtype=float32)>, <tf.Variable 'bias:0' shape=(3,) dtype=float32, numpy=array([1.1468066 , 0.96459925, 0.87830144], dtype=float32)>]\n"
     ]
    }
   ],
   "source": [
    "# variables = [W, b]\n",
    "print(variables)"
   ]
  },
  {
   "cell_type": "code",
   "execution_count": 11,
   "id": "6026005b",
   "metadata": {},
   "outputs": [
    {
     "name": "stdout",
     "output_type": "stream",
     "text": [
      "(<tf.Tensor: shape=(4, 3), dtype=float32, numpy=\n",
      "array([[ 1.2842344 , -0.74903935, -0.535195  ],\n",
      "       [ 0.9101898 , -1.2484827 ,  0.33829278],\n",
      "       [ 2.1043162 , -1.8736638 , -0.23065293],\n",
      "       [ 2.2285507 , -1.998596  , -0.22995517]], dtype=float32)>, <tf.Variable 'weight:0' shape=(4, 3) dtype=float32, numpy=\n",
      "array([[ 0.8369314 , -0.7342977 ,  1.0402943 ],\n",
      "       [ 0.04035992, -0.7218659 ,  1.0794858 ],\n",
      "       [ 0.9032698 , -0.73601735, -0.36105633],\n",
      "       [-0.60787624,  0.07614239, -0.7211218 ]], dtype=float32)>)\n",
      "(<tf.Tensor: shape=(3,), dtype=float32, numpy=array([ 0.5565949 , -0.37419173, -0.18240319], dtype=float32)>, <tf.Variable 'bias:0' shape=(3,) dtype=float32, numpy=array([1.1468066 , 0.96459925, 0.87830144], dtype=float32)>)\n"
     ]
    }
   ],
   "source": [
    "# zip 기능 확인\n",
    "grads = grad_fn(x_data, y_data)\n",
    "for pair in zip(grads, variables):\n",
    "    print(pair)"
   ]
  },
  {
   "cell_type": "markdown",
   "id": "1969f369",
   "metadata": {},
   "source": [
    "## 학습 및 가중치 최적화"
   ]
  },
  {
   "cell_type": "code",
   "execution_count": 12,
   "id": "8c31791e",
   "metadata": {},
   "outputs": [
    {
     "name": "stdout",
     "output_type": "stream",
     "text": [
      "Loss at epoch 1: 3.077796\n",
      "Loss at epoch 100: 0.648126\n",
      "Loss at epoch 200: 0.583560\n",
      "Loss at epoch 300: 0.527852\n",
      "Loss at epoch 400: 0.476864\n",
      "Loss at epoch 500: 0.428181\n",
      "Loss at epoch 600: 0.380648\n",
      "Loss at epoch 700: 0.333812\n",
      "Loss at epoch 800: 0.288416\n",
      "Loss at epoch 900: 0.252232\n",
      "Loss at epoch 1000: 0.236942\n",
      "Loss at epoch 1100: 0.225131\n",
      "Loss at epoch 1200: 0.214419\n",
      "Loss at epoch 1300: 0.204656\n",
      "Loss at epoch 1400: 0.195719\n",
      "Loss at epoch 1500: 0.187507\n",
      "Loss at epoch 1600: 0.179934\n",
      "Loss at epoch 1700: 0.172930\n",
      "Loss at epoch 1800: 0.166433\n",
      "Loss at epoch 1900: 0.160392\n",
      "Loss at epoch 2000: 0.154759\n"
     ]
    }
   ],
   "source": [
    "def fit(X, Y, epochs=2000, verbose=100):\n",
    "    optimizer =  tf.keras.optimizers.SGD(learning_rate=0.1)\n",
    "\n",
    "    for i in range(epochs):\n",
    "        grads = grad_fn(X, Y)\n",
    "        optimizer.apply_gradients(zip(grads, variables))\n",
    "        if (i==0) | ((i+1)%verbose==0):\n",
    "            print('Loss at epoch %d: %f' %(i+1, cost_fn(X, Y).numpy()))\n",
    "            \n",
    "fit(x_data, y_data)"
   ]
  },
  {
   "cell_type": "markdown",
   "id": "24c103d6",
   "metadata": {},
   "source": [
    "## Prediction Check"
   ]
  },
  {
   "cell_type": "code",
   "execution_count": 13,
   "id": "e573f1b2",
   "metadata": {},
   "outputs": [
    {
     "name": "stdout",
     "output_type": "stream",
     "text": [
      "tf.Tensor([[0.00233654 0.0834768  0.91418666]], shape=(1, 3), dtype=float32)\n",
      "tf.Tensor([2], shape=(1,), dtype=int64)\n"
     ]
    }
   ],
   "source": [
    "sample_data = [[2,1,3,2]] # answer_label [[0,0,1]]\n",
    "sample_data = np.asarray(sample_data, dtype=np.float32)\n",
    "\n",
    "a = hypothesis(sample_data)\n",
    "\n",
    "print(a)\n",
    "print(tf.argmax(a, 1)) #index: 2"
   ]
  },
  {
   "cell_type": "code",
   "execution_count": 14,
   "id": "eb3a5a42",
   "metadata": {},
   "outputs": [
    {
     "name": "stdout",
     "output_type": "stream",
     "text": [
      "tf.Tensor(\n",
      "[[2.5278325e-06 9.0602465e-04 9.9909151e-01]\n",
      " [2.3365410e-03 8.3476759e-02 9.1418666e-01]\n",
      " [8.5252346e-08 1.6341875e-01 8.3658111e-01]\n",
      " [2.8292488e-06 8.4959275e-01 1.5040438e-01]\n",
      " [2.5089645e-01 7.3689163e-01 1.2211842e-02]\n",
      " [1.3153560e-01 8.6846066e-01 3.7197158e-06]\n",
      " [7.5783312e-01 2.4215178e-01 1.5085251e-05]\n",
      " [9.2092609e-01 7.9073697e-02 2.2452508e-07]], shape=(8, 3), dtype=float32)\n",
      "tf.Tensor([2 2 2 1 1 1 0 0], shape=(8,), dtype=int64)\n",
      "tf.Tensor([2 2 2 1 1 1 0 0], shape=(8,), dtype=int64)\n"
     ]
    }
   ],
   "source": [
    "b = hypothesis(x_data)\n",
    "print(b)\n",
    "print(tf.argmax(b, 1))\n",
    "print(tf.argmax(y_data, 1)) # matches with y_data"
   ]
  },
  {
   "cell_type": "markdown",
   "id": "5a3b9f5c",
   "metadata": {},
   "source": [
    "## Convert as Class"
   ]
  },
  {
   "cell_type": "code",
   "execution_count": 15,
   "id": "05b86806",
   "metadata": {},
   "outputs": [
    {
     "name": "stdout",
     "output_type": "stream",
     "text": [
      "Loss at epoch 1: 2.043091\n",
      "Loss at epoch 500: 0.462359\n",
      "Loss at epoch 1000: 0.245531\n",
      "Loss at epoch 1500: 0.191300\n",
      "Loss at epoch 2000: 0.157818\n"
     ]
    }
   ],
   "source": [
    "class softmax_classifer(tf.keras.Model):\n",
    "    def __init__(self, nb_classes):\n",
    "        super(softmax_classifer, self).__init__()\n",
    "        self.W = tf.Variable(tf.random.normal((4, nb_classes)), name='weight')\n",
    "        self.b = tf.Variable(tf.random.normal((nb_classes,)), name='bias')\n",
    "        \n",
    "    def softmax_regression(self, X):\n",
    "        return tf.nn.softmax(tf.matmul(X, self.W) + self.b)\n",
    "    \n",
    "    def cost_fn(self, X, Y):\n",
    "        logits = self.softmax_regression(X)\n",
    "        cost = tf.reduce_mean(-tf.reduce_sum(Y * tf.math.log(logits), axis=1))        \n",
    "        return cost\n",
    "    \n",
    "    def grad_fn(self, X, Y):\n",
    "        with tf.GradientTape() as tape:\n",
    "            cost = self.cost_fn(x_data, y_data)\n",
    "            grads = tape.gradient(cost, self.variables)            \n",
    "            return grads\n",
    "    \n",
    "    def fit(self, X, Y, epochs=2000, verbose=500):\n",
    "        optimizer =  tf.keras.optimizers.SGD(learning_rate=0.1)\n",
    "\n",
    "        for i in range(epochs):\n",
    "            grads = self.grad_fn(X, Y)\n",
    "            optimizer.apply_gradients(zip(grads, self.variables))\n",
    "            if (i==0) | ((i+1)%verbose==0):\n",
    "                print('Loss at epoch %d: %f' %(i+1, self.cost_fn(X, Y).numpy()))\n",
    "            \n",
    "model = softmax_classifer(nb_classes)\n",
    "model.fit(x_data, y_data)"
   ]
  },
  {
   "cell_type": "markdown",
   "id": "05826c75",
   "metadata": {},
   "source": [
    "## Example : Zoo classifier"
   ]
  },
  {
   "cell_type": "code",
   "execution_count": 16,
   "id": "3a7d3cc5",
   "metadata": {},
   "outputs": [],
   "source": [
    "xy = np.loadtxt('zoo.txt', delimiter=',', dtype=np.float32)\n",
    "\n",
    "x_data = xy[:, 0:-1]\n",
    "y_data = xy[:, -1]\n",
    "\n",
    "nb_classes = 7  # 0 ~ 6"
   ]
  },
  {
   "cell_type": "code",
   "execution_count": 17,
   "id": "bb69761e",
   "metadata": {},
   "outputs": [
    {
     "data": {
      "text/plain": [
       "array([0, 0, 3, 0, 0, 0, 0, 3, 3, 0, 0, 1, 3, 6, 6, 6, 1, 0, 3, 0, 1, 1,\n",
       "       0, 1, 5, 4, 4, 0, 0, 0, 5, 0, 0, 1, 3, 0, 0, 1, 3, 5, 5, 1, 5, 1,\n",
       "       0, 0, 6, 0, 0, 0, 0, 5, 4, 6, 0, 0, 1, 1, 1, 1, 3, 3, 2, 0, 0, 0,\n",
       "       0, 0, 0, 0, 0, 1, 6, 3, 0, 0, 2, 6, 1, 1, 2, 6, 3, 1, 0, 6, 3, 1,\n",
       "       5, 4, 2, 2, 3, 0, 0, 1, 0, 5, 0, 6, 1], dtype=int32)"
      ]
     },
     "execution_count": 17,
     "metadata": {},
     "output_type": "execute_result"
    }
   ],
   "source": [
    "y_data.astype(np.int32)   # 데이터 형태 변환 (converting data type)"
   ]
  },
  {
   "cell_type": "code",
   "execution_count": 18,
   "id": "ad2c2f92",
   "metadata": {
    "scrolled": true
   },
   "outputs": [
    {
     "name": "stdout",
     "output_type": "stream",
     "text": [
      "(101, 16) (101, 7)\n"
     ]
    }
   ],
   "source": [
    "# Make Y data as onehot shape\n",
    "Y_one_hot = tf.one_hot(y_data.astype(np.int32), nb_classes)\n",
    "\n",
    "print(x_data.shape, Y_one_hot.shape)"
   ]
  },
  {
   "cell_type": "code",
   "execution_count": 19,
   "id": "374b9d33",
   "metadata": {},
   "outputs": [],
   "source": [
    "#Weight and bias setting\n",
    "W = tf.Variable(tf.random.normal((16, nb_classes)), name='weight')\n",
    "b = tf.Variable(tf.random.normal((nb_classes,)), name='bias')\n",
    "variables = [W, b]\n",
    "\n",
    "# tf.nn.softmax computes softmax activations\n",
    "# softmax = exp(logits) / reduce_sum(exp(logits), dim)\n",
    "def logit_fn(X):\n",
    "    return tf.matmul(X, W) + b\n",
    "\n",
    "def hypothesis(X):\n",
    "    return tf.nn.softmax(logit_fn(X))\n",
    "\n",
    "def cost_fn(X, Y):\n",
    "    logits = logit_fn(X)\n",
    "    cost_i = tf.keras.losses.categorical_crossentropy(y_true=Y, y_pred=logits, \n",
    "                                                      from_logits=True)    \n",
    "    cost = tf.reduce_mean(cost_i)    \n",
    "    return cost\n",
    "\n",
    "def grad_fn(X, Y):\n",
    "    with tf.GradientTape() as tape:\n",
    "        loss = cost_fn(X, Y)\n",
    "        grads = tape.gradient(loss, variables)\n",
    "        return grads\n",
    "    \n",
    "def prediction(X, Y):\n",
    "    pred = tf.argmax(hypothesis(X), 1)\n",
    "    correct_prediction = tf.equal(pred, tf.argmax(Y, 1))\n",
    "    accuracy = tf.reduce_mean(tf.cast(correct_prediction, tf.float32))\n",
    "\n",
    "    return accuracy"
   ]
  },
  {
   "cell_type": "code",
   "execution_count": 20,
   "id": "0892cd68",
   "metadata": {},
   "outputs": [
    {
     "name": "stdout",
     "output_type": "stream",
     "text": [
      "Steps: 1 Loss: 3.553328037261963, Acc: 0.3465346395969391\n",
      "Steps: 100 Loss: 0.553804337978363, Acc: 0.8316831588745117\n",
      "Steps: 200 Loss: 0.367810994386673, Acc: 0.9108911156654358\n",
      "Steps: 300 Loss: 0.28497543931007385, Acc: 0.9405940771102905\n",
      "Steps: 400 Loss: 0.23434379696846008, Acc: 0.9405940771102905\n",
      "Steps: 500 Loss: 0.1992104947566986, Acc: 0.9504950642585754\n",
      "Steps: 600 Loss: 0.17302118241786957, Acc: 0.9504950642585754\n",
      "Steps: 700 Loss: 0.1526147574186325, Acc: 0.9504950642585754\n",
      "Steps: 800 Loss: 0.13624872267246246, Acc: 0.9504950642585754\n",
      "Steps: 900 Loss: 0.12285429239273071, Acc: 0.9504950642585754\n",
      "Steps: 1000 Loss: 0.11171947419643402, Acc: 0.9801980257034302\n"
     ]
    }
   ],
   "source": [
    "def fit(X, Y, epochs=1000, verbose=100):\n",
    "    optimizer =  tf.keras.optimizers.SGD(learning_rate=0.1)\n",
    "\n",
    "    for i in range(epochs):\n",
    "        grads = grad_fn(X, Y)\n",
    "        optimizer.apply_gradients(zip(grads, variables))\n",
    "        if (i==0) | ((i+1)%verbose==0):\n",
    "#             print('Loss at epoch %d: %f' %(i+1, cost_fn(X, Y).numpy()))\n",
    "            acc = prediction(X, Y).numpy()\n",
    "            loss = cost_fn(X, Y).numpy() \n",
    "            print('Steps: {} Loss: {}, Acc: {}'.format(i+1, loss, acc))\n",
    "\n",
    "fit(x_data, Y_one_hot)"
   ]
  },
  {
   "cell_type": "markdown",
   "id": "3500e26c",
   "metadata": {},
   "source": [
    "- Reference \n",
    " * https://github.com/deeplearningzerotoall/TensorFlow/blob/master/tf_2.x/lab-06-1-softmax_classifier-eager.ipynb\n",
    " * https://github.com/deeplearningzerotoall/TensorFlow/blob/master/tf_2.x/lab-06-2-softmax_zoo_classifier-eager.ipynb"
   ]
  }
 ],
 "metadata": {
  "kernelspec": {
   "display_name": "Python 3",
   "language": "python",
   "name": "python3"
  },
  "language_info": {
   "codemirror_mode": {
    "name": "ipython",
    "version": 3
   },
   "file_extension": ".py",
   "mimetype": "text/x-python",
   "name": "python",
   "nbconvert_exporter": "python",
   "pygments_lexer": "ipython3",
   "version": "3.8.8"
  }
 },
 "nbformat": 4,
 "nbformat_minor": 5
}
