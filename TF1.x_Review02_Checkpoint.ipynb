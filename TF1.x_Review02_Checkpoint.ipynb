{
 "cells": [
  {
   "cell_type": "markdown",
   "id": "0f45f329",
   "metadata": {},
   "source": [
    "# 02. Checkpoint\n",
    "- tf1.x와 tf2.x 일부 호환됨"
   ]
  },
  {
   "cell_type": "code",
   "execution_count": 1,
   "id": "38f3c926",
   "metadata": {
    "collapsed": true
   },
   "outputs": [
    {
     "name": "stderr",
     "output_type": "stream",
     "text": [
      "D:\\anaconda3\\envs\\tf16\\lib\\site-packages\\tensorflow\\python\\framework\\dtypes.py:493: FutureWarning: Passing (type, 1) or '1type' as a synonym of type is deprecated; in a future version of numpy, it will be understood as (type, (1,)) / '(1,)type'.\n",
      "  _np_qint8 = np.dtype([(\"qint8\", np.int8, 1)])\n",
      "D:\\anaconda3\\envs\\tf16\\lib\\site-packages\\tensorflow\\python\\framework\\dtypes.py:494: FutureWarning: Passing (type, 1) or '1type' as a synonym of type is deprecated; in a future version of numpy, it will be understood as (type, (1,)) / '(1,)type'.\n",
      "  _np_quint8 = np.dtype([(\"quint8\", np.uint8, 1)])\n",
      "D:\\anaconda3\\envs\\tf16\\lib\\site-packages\\tensorflow\\python\\framework\\dtypes.py:495: FutureWarning: Passing (type, 1) or '1type' as a synonym of type is deprecated; in a future version of numpy, it will be understood as (type, (1,)) / '(1,)type'.\n",
      "  _np_qint16 = np.dtype([(\"qint16\", np.int16, 1)])\n",
      "D:\\anaconda3\\envs\\tf16\\lib\\site-packages\\tensorflow\\python\\framework\\dtypes.py:496: FutureWarning: Passing (type, 1) or '1type' as a synonym of type is deprecated; in a future version of numpy, it will be understood as (type, (1,)) / '(1,)type'.\n",
      "  _np_quint16 = np.dtype([(\"quint16\", np.uint16, 1)])\n",
      "D:\\anaconda3\\envs\\tf16\\lib\\site-packages\\tensorflow\\python\\framework\\dtypes.py:497: FutureWarning: Passing (type, 1) or '1type' as a synonym of type is deprecated; in a future version of numpy, it will be understood as (type, (1,)) / '(1,)type'.\n",
      "  _np_qint32 = np.dtype([(\"qint32\", np.int32, 1)])\n",
      "D:\\anaconda3\\envs\\tf16\\lib\\site-packages\\tensorflow\\python\\framework\\dtypes.py:502: FutureWarning: Passing (type, 1) or '1type' as a synonym of type is deprecated; in a future version of numpy, it will be understood as (type, (1,)) / '(1,)type'.\n",
      "  np_resource = np.dtype([(\"resource\", np.ubyte, 1)])\n"
     ]
    },
    {
     "name": "stdout",
     "output_type": "stream",
     "text": [
      "1.5.1\n"
     ]
    }
   ],
   "source": [
    "import tensorflow as tf\n",
    "\n",
    "print(tf.__version__)"
   ]
  },
  {
   "cell_type": "markdown",
   "id": "variable-mount",
   "metadata": {},
   "source": [
    "## 1. Customer Graph 및 Session 저장"
   ]
  },
  {
   "cell_type": "code",
   "execution_count": 2,
   "id": "remarkable-engineer",
   "metadata": {},
   "outputs": [
    {
     "name": "stdout",
     "output_type": "stream",
     "text": [
      "ckpt file: saved/my_test_sess-0\n",
      "ckpt file: saved/my_test_sess-1\n",
      "ckpt file: saved/my_test_sess-2\n",
      "8\n"
     ]
    }
   ],
   "source": [
    "cg = tf.Graph()\n",
    "sess = tf.Session(graph = cg)\n",
    "\n",
    "\n",
    "with cg.as_default():\n",
    "\n",
    "    a = tf.Variable(3)\n",
    "    b = tf.Variable(5)\n",
    "    c = a + b\n",
    "    \n",
    "    sess.run(tf.global_variables_initializer())\n",
    "    \n",
    "    #모델 저장 시 별도의 saver를 만들어준다.\n",
    "    saver = tf.train.Saver()\n",
    "    \n",
    "    for step in range(3):\n",
    "        ckpt_path = saver.save(sess,'saved/my_test_sess', step)\n",
    "        \n",
    "        print(\"ckpt file:\", ckpt_path)\n",
    "    \n",
    "    writer = tf.summary.FileWriter(\"./log\", sess.graph)\n",
    "\n",
    "    \n",
    "print(sess.run(c))"
   ]
  },
  {
   "cell_type": "markdown",
   "id": "3e5f8f87",
   "metadata": {},
   "source": [
    "## 2. Checkpoint State Protocol Buffer \n",
    "\n",
    "- tf.train.get_checkpoint_state(saved_dir_path) : 지정 폴더에서 모든 파일 읽어옴\n",
    "- tf.train.latest_checkpoint(saved_dir_path) : 지정 폴더에 가장 최신 파일만 읽어옴"
   ]
  },
  {
   "cell_type": "markdown",
   "id": "3c461019",
   "metadata": {},
   "source": [
    "### 2-1. tf.train.get_checkpoint_state(saved_dir_path)"
   ]
  },
  {
   "cell_type": "code",
   "execution_count": 3,
   "id": "22631467",
   "metadata": {},
   "outputs": [
    {
     "name": "stdout",
     "output_type": "stream",
     "text": [
      "<class 'tensorflow.python.training.checkpoint_state_pb2.CheckpointState'>\n",
      "model_checkpoint_path: \"saved\\\\my_test_sess-2\"\n",
      "all_model_checkpoint_paths: \"saved\\\\my_test_sess-0\"\n",
      "all_model_checkpoint_paths: \"saved\\\\my_test_sess-1\"\n",
      "all_model_checkpoint_paths: \"saved\\\\my_test_sess-2\"\n",
      "\n"
     ]
    }
   ],
   "source": [
    "ckpt_state = tf.train.get_checkpoint_state(\"saved\")\n",
    "print(type(ckpt_state))\n",
    "print(ckpt_state)"
   ]
  },
  {
   "cell_type": "markdown",
   "id": "68089bef",
   "metadata": {},
   "source": [
    "- model_checkpoint_path : 가장 최근 ckp"
   ]
  },
  {
   "cell_type": "code",
   "execution_count": 7,
   "id": "234b4191",
   "metadata": {},
   "outputs": [
    {
     "data": {
      "text/plain": [
       "'saved\\\\my_test_sess-2'"
      ]
     },
     "execution_count": 7,
     "metadata": {},
     "output_type": "execute_result"
    }
   ],
   "source": [
    "ckpt_state.model_checkpoint_path"
   ]
  },
  {
   "cell_type": "markdown",
   "id": "cb113452",
   "metadata": {},
   "source": [
    "- all_model_checkpoint_paths : 모든 ckp를 list로 보여줌"
   ]
  },
  {
   "cell_type": "code",
   "execution_count": 8,
   "id": "b4707e00",
   "metadata": {},
   "outputs": [
    {
     "data": {
      "text/plain": [
       "['saved\\\\my_test_sess-0', 'saved\\\\my_test_sess-1', 'saved\\\\my_test_sess-2']"
      ]
     },
     "execution_count": 8,
     "metadata": {},
     "output_type": "execute_result"
    }
   ],
   "source": [
    "ckpt_state.all_model_checkpoint_paths"
   ]
  },
  {
   "cell_type": "markdown",
   "id": "3e29853e",
   "metadata": {},
   "source": [
    "### 2-2. tf.train.latest_checkpoint(saved_dir_path)"
   ]
  },
  {
   "cell_type": "code",
   "execution_count": 10,
   "id": "0a258647",
   "metadata": {},
   "outputs": [
    {
     "data": {
      "text/plain": [
       "'saved\\\\my_test_sess3'"
      ]
     },
     "execution_count": 10,
     "metadata": {},
     "output_type": "execute_result"
    }
   ],
   "source": [
    "recent_ckpt_job_path = tf.train.latest_checkpoint(\"saved\")\n",
    "\n",
    "recent_ckpt_job_path"
   ]
  },
  {
   "cell_type": "markdown",
   "id": "electronic-damage",
   "metadata": {},
   "source": [
    "- Reference\n",
    " * http://jaynewho.com/post/8\n",
    " * https://runebook.dev/ko/docs/tensorflow/train/checkpoint"
   ]
  }
 ],
 "metadata": {
  "kernelspec": {
   "display_name": "Python 3",
   "language": "python",
   "name": "python3"
  },
  "language_info": {
   "codemirror_mode": {
    "name": "ipython",
    "version": 3
   },
   "file_extension": ".py",
   "mimetype": "text/x-python",
   "name": "python",
   "nbconvert_exporter": "python",
   "pygments_lexer": "ipython3",
   "version": "3.6.12"
  }
 },
 "nbformat": 4,
 "nbformat_minor": 5
}
