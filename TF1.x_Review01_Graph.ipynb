{
 "cells": [
  {
   "cell_type": "markdown",
   "id": "0f45f329",
   "metadata": {},
   "source": [
    "## 01. Introduction to Graph(연산/계산 설계도)"
   ]
  },
  {
   "cell_type": "markdown",
   "id": "3e5f8f87",
   "metadata": {},
   "source": [
    "### 1-1. Default Graph 사용\n",
    "- 연산을 위한 설계도(Graph)를 별도 정의하지 않으면, 기본적으로 제공되는 Graph가 자동 적용."
   ]
  },
  {
   "cell_type": "code",
   "execution_count": 1,
   "id": "38f3c926",
   "metadata": {
    "collapsed": true
   },
   "outputs": [
    {
     "name": "stderr",
     "output_type": "stream",
     "text": [
      "D:\\anaconda3\\envs\\tf16\\lib\\site-packages\\tensorflow\\python\\framework\\dtypes.py:493: FutureWarning: Passing (type, 1) or '1type' as a synonym of type is deprecated; in a future version of numpy, it will be understood as (type, (1,)) / '(1,)type'.\n",
      "  _np_qint8 = np.dtype([(\"qint8\", np.int8, 1)])\n",
      "D:\\anaconda3\\envs\\tf16\\lib\\site-packages\\tensorflow\\python\\framework\\dtypes.py:494: FutureWarning: Passing (type, 1) or '1type' as a synonym of type is deprecated; in a future version of numpy, it will be understood as (type, (1,)) / '(1,)type'.\n",
      "  _np_quint8 = np.dtype([(\"quint8\", np.uint8, 1)])\n",
      "D:\\anaconda3\\envs\\tf16\\lib\\site-packages\\tensorflow\\python\\framework\\dtypes.py:495: FutureWarning: Passing (type, 1) or '1type' as a synonym of type is deprecated; in a future version of numpy, it will be understood as (type, (1,)) / '(1,)type'.\n",
      "  _np_qint16 = np.dtype([(\"qint16\", np.int16, 1)])\n",
      "D:\\anaconda3\\envs\\tf16\\lib\\site-packages\\tensorflow\\python\\framework\\dtypes.py:496: FutureWarning: Passing (type, 1) or '1type' as a synonym of type is deprecated; in a future version of numpy, it will be understood as (type, (1,)) / '(1,)type'.\n",
      "  _np_quint16 = np.dtype([(\"quint16\", np.uint16, 1)])\n",
      "D:\\anaconda3\\envs\\tf16\\lib\\site-packages\\tensorflow\\python\\framework\\dtypes.py:497: FutureWarning: Passing (type, 1) or '1type' as a synonym of type is deprecated; in a future version of numpy, it will be understood as (type, (1,)) / '(1,)type'.\n",
      "  _np_qint32 = np.dtype([(\"qint32\", np.int32, 1)])\n",
      "D:\\anaconda3\\envs\\tf16\\lib\\site-packages\\tensorflow\\python\\framework\\dtypes.py:502: FutureWarning: Passing (type, 1) or '1type' as a synonym of type is deprecated; in a future version of numpy, it will be understood as (type, (1,)) / '(1,)type'.\n",
      "  np_resource = np.dtype([(\"resource\", np.ubyte, 1)])\n"
     ]
    },
    {
     "name": "stdout",
     "output_type": "stream",
     "text": [
      "1.5.1\n"
     ]
    }
   ],
   "source": [
    "import tensorflow as tf\n",
    "\n",
    "print(tf.__version__)"
   ]
  },
  {
   "cell_type": "code",
   "execution_count": 2,
   "id": "46099d31",
   "metadata": {},
   "outputs": [
    {
     "name": "stdout",
     "output_type": "stream",
     "text": [
      "8\n"
     ]
    }
   ],
   "source": [
    "a1 = tf.Variable(3)\n",
    "b1 = tf.Variable(5)\n",
    "c1 = a1 + b1\n",
    "\n",
    "sess1 = tf.Session()       #.Session() 괄호에 아무것도 없으면 기본 Graph가 자동 적용됨.\n",
    "sess1.run(tf.global_variables_initializer())\n",
    "print(sess1.run(c1))       # 계산 결과는 print안에서 .run을 호출해야 함."
   ]
  },
  {
   "cell_type": "markdown",
   "id": "e2f6b507",
   "metadata": {},
   "source": [
    "### Session 저장"
   ]
  },
  {
   "cell_type": "code",
   "execution_count": 3,
   "id": "af9defeb",
   "metadata": {},
   "outputs": [
    {
     "data": {
      "text/plain": [
       "'saved/my_test_sess1'"
      ]
     },
     "execution_count": 3,
     "metadata": {},
     "output_type": "execute_result"
    }
   ],
   "source": [
    "saver = tf.train.Saver()\n",
    "saver.save(sess1,'saved/my_test_sess1')"
   ]
  },
  {
   "cell_type": "markdown",
   "id": "fe03bdda",
   "metadata": {},
   "source": [
    "### 1-2. Customer Graph 사용\n",
    "- epoch step 별 session 저장 가능"
   ]
  },
  {
   "cell_type": "code",
   "execution_count": 4,
   "id": "16106733",
   "metadata": {},
   "outputs": [
    {
     "name": "stdout",
     "output_type": "stream",
     "text": [
      "ckpt file: saved/my_test_sess2-0\n",
      "ckpt file: saved/my_test_sess2-1\n",
      "ckpt file: saved/my_test_sess2-2\n",
      "8\n"
     ]
    }
   ],
   "source": [
    "cg1 = tf.Graph()\n",
    "sess2 = tf.Session(graph = cg1)\n",
    "\n",
    "\n",
    "with cg1.as_default():\n",
    "\n",
    "    a2 = tf.Variable(3)\n",
    "    b2 = tf.Variable(5)\n",
    "    c2 = a2 + b2\n",
    "    \n",
    "    sess2.run(tf.global_variables_initializer())\n",
    "    \n",
    "    #모델 저장 시 별도의 saver를 만들어준다.\n",
    "    saver2 = tf.train.Saver()\n",
    "    \n",
    "    for step in range(3):\n",
    "        ckpt_path = saver2.save(sess2,'saved/my_test_sess2', step)\n",
    "        \n",
    "        print(\"ckpt file:\", ckpt_path)\n",
    "    \n",
    "    writer = tf.summary.FileWriter(\"./log\", sess2.graph)\n",
    "    \n",
    "    #summary_writer = tf.train.SummaryWriter(\"my_sess2_summary\", sess2.graph)\n",
    "    \n",
    "print(sess2.run(c2))"
   ]
  },
  {
   "cell_type": "code",
   "execution_count": 5,
   "id": "7a9185df",
   "metadata": {},
   "outputs": [
    {
     "ename": "SyntaxError",
     "evalue": "invalid syntax (<ipython-input-5-37a18c54f86a>, line 2)",
     "output_type": "error",
     "traceback": [
      "\u001b[1;36m  File \u001b[1;32m\"<ipython-input-5-37a18c54f86a>\"\u001b[1;36m, line \u001b[1;32m2\u001b[0m\n\u001b[1;33m    tensorboard --logdir=./log\u001b[0m\n\u001b[1;37m                         ^\u001b[0m\n\u001b[1;31mSyntaxError\u001b[0m\u001b[1;31m:\u001b[0m invalid syntax\n"
     ]
    }
   ],
   "source": [
    "# tensorboard 확인은 conda prompt window에서 입력\n",
    "tensorboard --logdir=./log"
   ]
  },
  {
   "cell_type": "markdown",
   "id": "8b125a4e",
   "metadata": {},
   "source": [
    "### 1-3. session 실행이 맞지 않으면 Error 발생"
   ]
  },
  {
   "cell_type": "code",
   "execution_count": 6,
   "id": "0d5d99eb",
   "metadata": {
    "collapsed": true
   },
   "outputs": [
    {
     "ename": "ValueError",
     "evalue": "Fetch argument <tf.Operation 'init_1' type=NoOp> cannot be interpreted as a Tensor. (Operation name: \"init_1\"\nop: \"NoOp\"\ninput: \"^Variable/Assign\"\ninput: \"^Variable_1/Assign\"\n is not an element of this graph.)",
     "output_type": "error",
     "traceback": [
      "\u001b[1;31m---------------------------------------------------------------------------\u001b[0m",
      "\u001b[1;31mValueError\u001b[0m                                Traceback (most recent call last)",
      "\u001b[1;32mD:\\anaconda3\\envs\\tf16\\lib\\site-packages\\tensorflow\\python\\client\\session.py\u001b[0m in \u001b[0;36m__init__\u001b[1;34m(self, fetches, contraction_fn)\u001b[0m\n\u001b[0;32m    276\u001b[0m         self._unique_fetches.append(ops.get_default_graph().as_graph_element(\n\u001b[1;32m--> 277\u001b[1;33m             fetch, allow_tensor=True, allow_operation=True))\n\u001b[0m\u001b[0;32m    278\u001b[0m       \u001b[1;32mexcept\u001b[0m \u001b[0mTypeError\u001b[0m \u001b[1;32mas\u001b[0m \u001b[0me\u001b[0m\u001b[1;33m:\u001b[0m\u001b[1;33m\u001b[0m\u001b[1;33m\u001b[0m\u001b[0m\n",
      "\u001b[1;32mD:\\anaconda3\\envs\\tf16\\lib\\site-packages\\tensorflow\\python\\framework\\ops.py\u001b[0m in \u001b[0;36mas_graph_element\u001b[1;34m(self, obj, allow_tensor, allow_operation)\u001b[0m\n\u001b[0;32m   3322\u001b[0m     \u001b[1;32mwith\u001b[0m \u001b[0mself\u001b[0m\u001b[1;33m.\u001b[0m\u001b[0m_lock\u001b[0m\u001b[1;33m:\u001b[0m\u001b[1;33m\u001b[0m\u001b[1;33m\u001b[0m\u001b[0m\n\u001b[1;32m-> 3323\u001b[1;33m       \u001b[1;32mreturn\u001b[0m \u001b[0mself\u001b[0m\u001b[1;33m.\u001b[0m\u001b[0m_as_graph_element_locked\u001b[0m\u001b[1;33m(\u001b[0m\u001b[0mobj\u001b[0m\u001b[1;33m,\u001b[0m \u001b[0mallow_tensor\u001b[0m\u001b[1;33m,\u001b[0m \u001b[0mallow_operation\u001b[0m\u001b[1;33m)\u001b[0m\u001b[1;33m\u001b[0m\u001b[1;33m\u001b[0m\u001b[0m\n\u001b[0m\u001b[0;32m   3324\u001b[0m \u001b[1;33m\u001b[0m\u001b[0m\n",
      "\u001b[1;32mD:\\anaconda3\\envs\\tf16\\lib\\site-packages\\tensorflow\\python\\framework\\ops.py\u001b[0m in \u001b[0;36m_as_graph_element_locked\u001b[1;34m(self, obj, allow_tensor, allow_operation)\u001b[0m\n\u001b[0;32m   3406\u001b[0m       \u001b[1;32mif\u001b[0m \u001b[0mobj\u001b[0m\u001b[1;33m.\u001b[0m\u001b[0mgraph\u001b[0m \u001b[1;32mis\u001b[0m \u001b[1;32mnot\u001b[0m \u001b[0mself\u001b[0m\u001b[1;33m:\u001b[0m\u001b[1;33m\u001b[0m\u001b[1;33m\u001b[0m\u001b[0m\n\u001b[1;32m-> 3407\u001b[1;33m         \u001b[1;32mraise\u001b[0m \u001b[0mValueError\u001b[0m\u001b[1;33m(\u001b[0m\u001b[1;34m\"Operation %s is not an element of this graph.\"\u001b[0m \u001b[1;33m%\u001b[0m \u001b[0mobj\u001b[0m\u001b[1;33m)\u001b[0m\u001b[1;33m\u001b[0m\u001b[1;33m\u001b[0m\u001b[0m\n\u001b[0m\u001b[0;32m   3408\u001b[0m       \u001b[1;32mreturn\u001b[0m \u001b[0mobj\u001b[0m\u001b[1;33m\u001b[0m\u001b[1;33m\u001b[0m\u001b[0m\n",
      "\u001b[1;31mValueError\u001b[0m: Operation name: \"init_1\"\nop: \"NoOp\"\ninput: \"^Variable/Assign\"\ninput: \"^Variable_1/Assign\"\n is not an element of this graph.",
      "\nDuring handling of the above exception, another exception occurred:\n",
      "\u001b[1;31mValueError\u001b[0m                                Traceback (most recent call last)",
      "\u001b[1;32m<ipython-input-6-e33866b45dd0>\u001b[0m in \u001b[0;36m<module>\u001b[1;34m\u001b[0m\n\u001b[0;32m      7\u001b[0m \u001b[1;33m\u001b[0m\u001b[0m\n\u001b[0;32m      8\u001b[0m \u001b[0msess3\u001b[0m \u001b[1;33m=\u001b[0m \u001b[0mtf\u001b[0m\u001b[1;33m.\u001b[0m\u001b[0mSession\u001b[0m\u001b[1;33m(\u001b[0m\u001b[0mgraph\u001b[0m \u001b[1;33m=\u001b[0m \u001b[0mcg2\u001b[0m\u001b[1;33m)\u001b[0m              \u001b[1;31m# with 구문 밖으로 나왔음.\u001b[0m\u001b[1;33m\u001b[0m\u001b[1;33m\u001b[0m\u001b[0m\n\u001b[1;32m----> 9\u001b[1;33m \u001b[0msess3\u001b[0m\u001b[1;33m.\u001b[0m\u001b[0mrun\u001b[0m\u001b[1;33m(\u001b[0m\u001b[0mtf\u001b[0m\u001b[1;33m.\u001b[0m\u001b[0mglobal_variables_initializer\u001b[0m\u001b[1;33m(\u001b[0m\u001b[1;33m)\u001b[0m\u001b[1;33m)\u001b[0m\u001b[1;33m\u001b[0m\u001b[1;33m\u001b[0m\u001b[0m\n\u001b[0m\u001b[0;32m     10\u001b[0m \u001b[0mprint\u001b[0m\u001b[1;33m(\u001b[0m\u001b[0msess2\u001b[0m\u001b[1;33m.\u001b[0m\u001b[0mrun\u001b[0m\u001b[1;33m(\u001b[0m\u001b[0mc3\u001b[0m\u001b[1;33m)\u001b[0m\u001b[1;33m)\u001b[0m                         \u001b[1;31m# sess2에 c3을 연산하므로 맞지 않음\u001b[0m\u001b[1;33m\u001b[0m\u001b[1;33m\u001b[0m\u001b[0m\n",
      "\u001b[1;32mD:\\anaconda3\\envs\\tf16\\lib\\site-packages\\tensorflow\\python\\client\\session.py\u001b[0m in \u001b[0;36mrun\u001b[1;34m(self, fetches, feed_dict, options, run_metadata)\u001b[0m\n\u001b[0;32m    893\u001b[0m     \u001b[1;32mtry\u001b[0m\u001b[1;33m:\u001b[0m\u001b[1;33m\u001b[0m\u001b[1;33m\u001b[0m\u001b[0m\n\u001b[0;32m    894\u001b[0m       result = self._run(None, fetches, feed_dict, options_ptr,\n\u001b[1;32m--> 895\u001b[1;33m                          run_metadata_ptr)\n\u001b[0m\u001b[0;32m    896\u001b[0m       \u001b[1;32mif\u001b[0m \u001b[0mrun_metadata\u001b[0m\u001b[1;33m:\u001b[0m\u001b[1;33m\u001b[0m\u001b[1;33m\u001b[0m\u001b[0m\n\u001b[0;32m    897\u001b[0m         \u001b[0mproto_data\u001b[0m \u001b[1;33m=\u001b[0m \u001b[0mtf_session\u001b[0m\u001b[1;33m.\u001b[0m\u001b[0mTF_GetBuffer\u001b[0m\u001b[1;33m(\u001b[0m\u001b[0mrun_metadata_ptr\u001b[0m\u001b[1;33m)\u001b[0m\u001b[1;33m\u001b[0m\u001b[1;33m\u001b[0m\u001b[0m\n",
      "\u001b[1;32mD:\\anaconda3\\envs\\tf16\\lib\\site-packages\\tensorflow\\python\\client\\session.py\u001b[0m in \u001b[0;36m_run\u001b[1;34m(self, handle, fetches, feed_dict, options, run_metadata)\u001b[0m\n\u001b[0;32m   1111\u001b[0m     \u001b[1;31m# Create a fetch handler to take care of the structure of fetches.\u001b[0m\u001b[1;33m\u001b[0m\u001b[1;33m\u001b[0m\u001b[1;33m\u001b[0m\u001b[0m\n\u001b[0;32m   1112\u001b[0m     fetch_handler = _FetchHandler(\n\u001b[1;32m-> 1113\u001b[1;33m         self._graph, fetches, feed_dict_tensor, feed_handles=feed_handles)\n\u001b[0m\u001b[0;32m   1114\u001b[0m \u001b[1;33m\u001b[0m\u001b[0m\n\u001b[0;32m   1115\u001b[0m     \u001b[1;31m# Run request and get response.\u001b[0m\u001b[1;33m\u001b[0m\u001b[1;33m\u001b[0m\u001b[1;33m\u001b[0m\u001b[0m\n",
      "\u001b[1;32mD:\\anaconda3\\envs\\tf16\\lib\\site-packages\\tensorflow\\python\\client\\session.py\u001b[0m in \u001b[0;36m__init__\u001b[1;34m(self, graph, fetches, feeds, feed_handles)\u001b[0m\n\u001b[0;32m    418\u001b[0m     \"\"\"\n\u001b[0;32m    419\u001b[0m     \u001b[1;32mwith\u001b[0m \u001b[0mgraph\u001b[0m\u001b[1;33m.\u001b[0m\u001b[0mas_default\u001b[0m\u001b[1;33m(\u001b[0m\u001b[1;33m)\u001b[0m\u001b[1;33m:\u001b[0m\u001b[1;33m\u001b[0m\u001b[1;33m\u001b[0m\u001b[0m\n\u001b[1;32m--> 420\u001b[1;33m       \u001b[0mself\u001b[0m\u001b[1;33m.\u001b[0m\u001b[0m_fetch_mapper\u001b[0m \u001b[1;33m=\u001b[0m \u001b[0m_FetchMapper\u001b[0m\u001b[1;33m.\u001b[0m\u001b[0mfor_fetch\u001b[0m\u001b[1;33m(\u001b[0m\u001b[0mfetches\u001b[0m\u001b[1;33m)\u001b[0m\u001b[1;33m\u001b[0m\u001b[1;33m\u001b[0m\u001b[0m\n\u001b[0m\u001b[0;32m    421\u001b[0m     \u001b[0mself\u001b[0m\u001b[1;33m.\u001b[0m\u001b[0m_fetches\u001b[0m \u001b[1;33m=\u001b[0m \u001b[1;33m[\u001b[0m\u001b[1;33m]\u001b[0m\u001b[1;33m\u001b[0m\u001b[1;33m\u001b[0m\u001b[0m\n\u001b[0;32m    422\u001b[0m     \u001b[0mself\u001b[0m\u001b[1;33m.\u001b[0m\u001b[0m_targets\u001b[0m \u001b[1;33m=\u001b[0m \u001b[1;33m[\u001b[0m\u001b[1;33m]\u001b[0m\u001b[1;33m\u001b[0m\u001b[1;33m\u001b[0m\u001b[0m\n",
      "\u001b[1;32mD:\\anaconda3\\envs\\tf16\\lib\\site-packages\\tensorflow\\python\\client\\session.py\u001b[0m in \u001b[0;36mfor_fetch\u001b[1;34m(fetch)\u001b[0m\n\u001b[0;32m    246\u001b[0m         \u001b[1;32mif\u001b[0m \u001b[0misinstance\u001b[0m\u001b[1;33m(\u001b[0m\u001b[0mfetch\u001b[0m\u001b[1;33m,\u001b[0m \u001b[0mtensor_type\u001b[0m\u001b[1;33m)\u001b[0m\u001b[1;33m:\u001b[0m\u001b[1;33m\u001b[0m\u001b[1;33m\u001b[0m\u001b[0m\n\u001b[0;32m    247\u001b[0m           \u001b[0mfetches\u001b[0m\u001b[1;33m,\u001b[0m \u001b[0mcontraction_fn\u001b[0m \u001b[1;33m=\u001b[0m \u001b[0mfetch_fn\u001b[0m\u001b[1;33m(\u001b[0m\u001b[0mfetch\u001b[0m\u001b[1;33m)\u001b[0m\u001b[1;33m\u001b[0m\u001b[1;33m\u001b[0m\u001b[0m\n\u001b[1;32m--> 248\u001b[1;33m           \u001b[1;32mreturn\u001b[0m \u001b[0m_ElementFetchMapper\u001b[0m\u001b[1;33m(\u001b[0m\u001b[0mfetches\u001b[0m\u001b[1;33m,\u001b[0m \u001b[0mcontraction_fn\u001b[0m\u001b[1;33m)\u001b[0m\u001b[1;33m\u001b[0m\u001b[1;33m\u001b[0m\u001b[0m\n\u001b[0m\u001b[0;32m    249\u001b[0m     \u001b[1;31m# Did not find anything.\u001b[0m\u001b[1;33m\u001b[0m\u001b[1;33m\u001b[0m\u001b[1;33m\u001b[0m\u001b[0m\n\u001b[0;32m    250\u001b[0m     raise TypeError('Fetch argument %r has invalid type %r' %\n",
      "\u001b[1;32mD:\\anaconda3\\envs\\tf16\\lib\\site-packages\\tensorflow\\python\\client\\session.py\u001b[0m in \u001b[0;36m__init__\u001b[1;34m(self, fetches, contraction_fn)\u001b[0m\n\u001b[0;32m    282\u001b[0m       \u001b[1;32mexcept\u001b[0m \u001b[0mValueError\u001b[0m \u001b[1;32mas\u001b[0m \u001b[0me\u001b[0m\u001b[1;33m:\u001b[0m\u001b[1;33m\u001b[0m\u001b[1;33m\u001b[0m\u001b[0m\n\u001b[0;32m    283\u001b[0m         raise ValueError('Fetch argument %r cannot be interpreted as a '\n\u001b[1;32m--> 284\u001b[1;33m                          'Tensor. (%s)' % (fetch, str(e)))\n\u001b[0m\u001b[0;32m    285\u001b[0m       \u001b[1;32mexcept\u001b[0m \u001b[0mKeyError\u001b[0m \u001b[1;32mas\u001b[0m \u001b[0me\u001b[0m\u001b[1;33m:\u001b[0m\u001b[1;33m\u001b[0m\u001b[1;33m\u001b[0m\u001b[0m\n\u001b[0;32m    286\u001b[0m         raise ValueError('Fetch argument %r cannot be interpreted as a '\n",
      "\u001b[1;31mValueError\u001b[0m: Fetch argument <tf.Operation 'init_1' type=NoOp> cannot be interpreted as a Tensor. (Operation name: \"init_1\"\nop: \"NoOp\"\ninput: \"^Variable/Assign\"\ninput: \"^Variable_1/Assign\"\n is not an element of this graph.)"
     ]
    }
   ],
   "source": [
    "cg2 = tf.Graph()\n",
    "\n",
    "with cg2.as_default():\n",
    "    a3 = tf.Variable(3)\n",
    "    b3 = tf.Variable(5)\n",
    "    c3 = a3 + b3\n",
    "    \n",
    "sess3 = tf.Session(graph = cg2)              # with 구문 밖으로 나왔음.\n",
    "sess3.run(tf.global_variables_initializer())\n",
    "print(sess2.run(c3))                         # sess2에 c3을 연산하므로 맞지 않음"
   ]
  },
  {
   "cell_type": "markdown",
   "id": "0e296959",
   "metadata": {},
   "source": [
    "### 1-4. Graph와 Session을 따로 정의하는 방법"
   ]
  },
  {
   "cell_type": "code",
   "execution_count": 7,
   "id": "1b671c27",
   "metadata": {},
   "outputs": [
    {
     "name": "stdout",
     "output_type": "stream",
     "text": [
      "[27]\n"
     ]
    }
   ],
   "source": [
    "cg3 = tf.Graph()\n",
    "\n",
    "with cg3.as_default():\n",
    "    v0 = tf.placeholder(tf.int32, name = \"V0\")\n",
    "    v1 = tf.Variable(10, name = \"V1\")\n",
    "    v2 = tf.Variable(20, name = \"V2\")\n",
    "    v3 = tf.add(v0,v2, name = \"add\")\n",
    "    \n",
    "with tf.Session(graph = cg3) as sess3:\n",
    "    saver3 = tf.train.Saver()\n",
    "    sess3.run(tf.global_variables_initializer())\n",
    "    save_path = saver3.save(sess3, \"./saved/my_test_sess3\")\n",
    "    feed_dict = {v0:7}\n",
    "    output = sess3.run([v3], feed_dict = feed_dict)\n",
    "    \n",
    "    writer = tf.summary.FileWriter(\"./log\", sess3.graph)\n",
    "\n",
    "print(output)"
   ]
  },
  {
   "cell_type": "markdown",
   "id": "9995219d",
   "metadata": {},
   "source": [
    "### 1-5. graph 소속 여부 확인"
   ]
  },
  {
   "cell_type": "code",
   "execution_count": 8,
   "id": "75ac13af",
   "metadata": {},
   "outputs": [
    {
     "data": {
      "text/plain": [
       "False"
      ]
     },
     "execution_count": 8,
     "metadata": {},
     "output_type": "execute_result"
    }
   ],
   "source": [
    "c2.graph is tf.get_default_graph()"
   ]
  },
  {
   "cell_type": "code",
   "execution_count": 9,
   "id": "0bb52a6d",
   "metadata": {},
   "outputs": [
    {
     "data": {
      "text/plain": [
       "True"
      ]
     },
     "execution_count": 9,
     "metadata": {},
     "output_type": "execute_result"
    }
   ],
   "source": [
    "c2.graph is cg1"
   ]
  },
  {
   "cell_type": "markdown",
   "id": "befa7c6a",
   "metadata": {},
   "source": [
    "### 1-6. 사용 중인 graph node 확인"
   ]
  },
  {
   "cell_type": "code",
   "execution_count": 10,
   "id": "26ff2ddc",
   "metadata": {
    "scrolled": true
   },
   "outputs": [
    {
     "data": {
      "text/plain": [
       "['V0',\n",
       " 'V1/initial_value',\n",
       " 'V1',\n",
       " 'V1/Assign',\n",
       " 'V1/read',\n",
       " 'V2/initial_value',\n",
       " 'V2',\n",
       " 'V2/Assign',\n",
       " 'V2/read',\n",
       " 'add',\n",
       " 'save/Const',\n",
       " 'save/SaveV2/tensor_names',\n",
       " 'save/SaveV2/shape_and_slices',\n",
       " 'save/SaveV2',\n",
       " 'save/control_dependency',\n",
       " 'save/RestoreV2/tensor_names',\n",
       " 'save/RestoreV2/shape_and_slices',\n",
       " 'save/RestoreV2',\n",
       " 'save/Assign',\n",
       " 'save/RestoreV2_1/tensor_names',\n",
       " 'save/RestoreV2_1/shape_and_slices',\n",
       " 'save/RestoreV2_1',\n",
       " 'save/Assign_1',\n",
       " 'save/restore_all',\n",
       " 'init']"
      ]
     },
     "execution_count": 10,
     "metadata": {},
     "output_type": "execute_result"
    }
   ],
   "source": [
    "[node.name for node in cg3.as_graph_def().node]            # cg3.get_operations() 와 동일 결과"
   ]
  },
  {
   "cell_type": "code",
   "execution_count": 11,
   "id": "8ef97ecf",
   "metadata": {
    "scrolled": true
   },
   "outputs": [
    {
     "data": {
      "text/plain": [
       "[<tf.Operation 'V0' type=Placeholder>,\n",
       " <tf.Operation 'V1/initial_value' type=Const>,\n",
       " <tf.Operation 'V1' type=VariableV2>,\n",
       " <tf.Operation 'V1/Assign' type=Assign>,\n",
       " <tf.Operation 'V1/read' type=Identity>,\n",
       " <tf.Operation 'V2/initial_value' type=Const>,\n",
       " <tf.Operation 'V2' type=VariableV2>,\n",
       " <tf.Operation 'V2/Assign' type=Assign>,\n",
       " <tf.Operation 'V2/read' type=Identity>,\n",
       " <tf.Operation 'add' type=Add>,\n",
       " <tf.Operation 'save/Const' type=Const>,\n",
       " <tf.Operation 'save/SaveV2/tensor_names' type=Const>,\n",
       " <tf.Operation 'save/SaveV2/shape_and_slices' type=Const>,\n",
       " <tf.Operation 'save/SaveV2' type=SaveV2>,\n",
       " <tf.Operation 'save/control_dependency' type=Identity>,\n",
       " <tf.Operation 'save/RestoreV2/tensor_names' type=Const>,\n",
       " <tf.Operation 'save/RestoreV2/shape_and_slices' type=Const>,\n",
       " <tf.Operation 'save/RestoreV2' type=RestoreV2>,\n",
       " <tf.Operation 'save/Assign' type=Assign>,\n",
       " <tf.Operation 'save/RestoreV2_1/tensor_names' type=Const>,\n",
       " <tf.Operation 'save/RestoreV2_1/shape_and_slices' type=Const>,\n",
       " <tf.Operation 'save/RestoreV2_1' type=RestoreV2>,\n",
       " <tf.Operation 'save/Assign_1' type=Assign>,\n",
       " <tf.Operation 'save/restore_all' type=NoOp>,\n",
       " <tf.Operation 'init' type=NoOp>]"
      ]
     },
     "execution_count": 11,
     "metadata": {},
     "output_type": "execute_result"
    }
   ],
   "source": [
    "cg3.get_operations()"
   ]
  },
  {
   "cell_type": "code",
   "execution_count": 12,
   "id": "1fd680eb",
   "metadata": {},
   "outputs": [
    {
     "data": {
      "text/plain": [
       "[[],\n",
       " [],\n",
       " [],\n",
       " ['V1', 'V1/initial_value'],\n",
       " ['V1'],\n",
       " [],\n",
       " [],\n",
       " ['V2', 'V2/initial_value'],\n",
       " ['V2'],\n",
       " ['V0', 'V2/read'],\n",
       " [],\n",
       " [],\n",
       " [],\n",
       " ['save/Const', 'save/SaveV2/tensor_names', 'save/SaveV2/shape_and_slices', 'V1', 'V2'],\n",
       " ['save/Const', '^save/SaveV2'],\n",
       " [],\n",
       " [],\n",
       " ['save/Const', 'save/RestoreV2/tensor_names', 'save/RestoreV2/shape_and_slices'],\n",
       " ['V1', 'save/RestoreV2'],\n",
       " [],\n",
       " [],\n",
       " ['save/Const', 'save/RestoreV2_1/tensor_names', 'save/RestoreV2_1/shape_and_slices'],\n",
       " ['V2', 'save/RestoreV2_1'],\n",
       " ['^save/Assign', '^save/Assign_1'],\n",
       " ['^V1/Assign', '^V2/Assign']]"
      ]
     },
     "execution_count": 12,
     "metadata": {},
     "output_type": "execute_result"
    }
   ],
   "source": [
    "[node.input for node in cg3.as_graph_def().node]       # .input, op, device, attr 등 확인 가능"
   ]
  },
  {
   "cell_type": "markdown",
   "id": "b67537d0",
   "metadata": {},
   "source": [
    "- 참고: https://tensorflowkorea.gitbooks.io/tensorflow-kr/content/g3doc/how_tos/tool_developers/"
   ]
  },
  {
   "cell_type": "markdown",
   "id": "618e8a77",
   "metadata": {},
   "source": [
    "### 1-7. graph 요소 확인"
   ]
  },
  {
   "cell_type": "code",
   "execution_count": 13,
   "id": "d69a9439",
   "metadata": {},
   "outputs": [],
   "source": [
    "graph_collection_key_list = cg1.get_all_collection_keys()\n",
    "graph_collection_list = cg1.get_collection(graph_collection_key_list[0])\n",
    "oper_list = cg1.get_operations()            # cg1.as_graph_def().node와 동일 결과"
   ]
  },
  {
   "cell_type": "code",
   "execution_count": 14,
   "id": "b231ff30",
   "metadata": {},
   "outputs": [
    {
     "data": {
      "text/plain": [
       "['trainable_variables', 'variables']"
      ]
     },
     "execution_count": 14,
     "metadata": {},
     "output_type": "execute_result"
    }
   ],
   "source": [
    "graph_collection_key_list"
   ]
  },
  {
   "cell_type": "code",
   "execution_count": 15,
   "id": "4a9a52b0",
   "metadata": {},
   "outputs": [
    {
     "data": {
      "text/plain": [
       "[<tf.Variable 'Variable:0' shape=() dtype=int32_ref>,\n",
       " <tf.Variable 'Variable_1:0' shape=() dtype=int32_ref>]"
      ]
     },
     "execution_count": 15,
     "metadata": {},
     "output_type": "execute_result"
    }
   ],
   "source": [
    "graph_collection_list"
   ]
  },
  {
   "cell_type": "code",
   "execution_count": 16,
   "id": "64bf8110",
   "metadata": {
    "scrolled": true
   },
   "outputs": [
    {
     "data": {
      "text/plain": [
       "[<tf.Operation 'Variable/initial_value' type=Const>,\n",
       " <tf.Operation 'Variable' type=VariableV2>,\n",
       " <tf.Operation 'Variable/Assign' type=Assign>,\n",
       " <tf.Operation 'Variable/read' type=Identity>,\n",
       " <tf.Operation 'Variable_1/initial_value' type=Const>,\n",
       " <tf.Operation 'Variable_1' type=VariableV2>,\n",
       " <tf.Operation 'Variable_1/Assign' type=Assign>,\n",
       " <tf.Operation 'Variable_1/read' type=Identity>,\n",
       " <tf.Operation 'add' type=Add>,\n",
       " <tf.Operation 'init' type=NoOp>,\n",
       " <tf.Operation 'save/Const' type=Const>,\n",
       " <tf.Operation 'save/SaveV2/tensor_names' type=Const>,\n",
       " <tf.Operation 'save/SaveV2/shape_and_slices' type=Const>,\n",
       " <tf.Operation 'save/SaveV2' type=SaveV2>,\n",
       " <tf.Operation 'save/control_dependency' type=Identity>,\n",
       " <tf.Operation 'save/RestoreV2/tensor_names' type=Const>,\n",
       " <tf.Operation 'save/RestoreV2/shape_and_slices' type=Const>,\n",
       " <tf.Operation 'save/RestoreV2' type=RestoreV2>,\n",
       " <tf.Operation 'save/Assign' type=Assign>,\n",
       " <tf.Operation 'save/RestoreV2_1/tensor_names' type=Const>,\n",
       " <tf.Operation 'save/RestoreV2_1/shape_and_slices' type=Const>,\n",
       " <tf.Operation 'save/RestoreV2_1' type=RestoreV2>,\n",
       " <tf.Operation 'save/Assign_1' type=Assign>,\n",
       " <tf.Operation 'save/restore_all' type=NoOp>]"
      ]
     },
     "execution_count": 16,
     "metadata": {},
     "output_type": "execute_result"
    }
   ],
   "source": [
    "oper_list"
   ]
  },
  {
   "cell_type": "markdown",
   "id": "a4ce11f9",
   "metadata": {},
   "source": [
    "### 1-8. 저장된 model file을 불러와서 Graph node 확인"
   ]
  },
  {
   "cell_type": "markdown",
   "id": "dd90dd45",
   "metadata": {},
   "source": [
    "- 불러온 모델의 graph 저장 방법 1"
   ]
  },
  {
   "cell_type": "code",
   "execution_count": 17,
   "id": "a0733d52",
   "metadata": {
    "scrolled": true
   },
   "outputs": [
    {
     "name": "stdout",
     "output_type": "stream",
     "text": [
      "[<tf.Variable 'V1:0' shape=() dtype=int32_ref>, <tf.Variable 'V2:0' shape=() dtype=int32_ref>]\n"
     ]
    },
    {
     "data": {
      "text/plain": [
       "['V0',\n",
       " 'V1/initial_value',\n",
       " 'V1',\n",
       " 'V1/Assign',\n",
       " 'V1/read',\n",
       " 'V2/initial_value',\n",
       " 'V2',\n",
       " 'V2/Assign',\n",
       " 'V2/read',\n",
       " 'add',\n",
       " 'save/Const',\n",
       " 'save/SaveV2/tensor_names',\n",
       " 'save/SaveV2/shape_and_slices',\n",
       " 'save/SaveV2',\n",
       " 'save/control_dependency',\n",
       " 'save/RestoreV2/tensor_names',\n",
       " 'save/RestoreV2/shape_and_slices',\n",
       " 'save/RestoreV2',\n",
       " 'save/Assign',\n",
       " 'save/RestoreV2_1/tensor_names',\n",
       " 'save/RestoreV2_1/shape_and_slices',\n",
       " 'save/RestoreV2_1',\n",
       " 'save/Assign_1',\n",
       " 'save/restore_all',\n",
       " 'init']"
      ]
     },
     "execution_count": 17,
     "metadata": {},
     "output_type": "execute_result"
    }
   ],
   "source": [
    "im1_graph = tf.Graph()\n",
    "with im1_graph.as_default():\n",
    "    im1_saver = tf.train.import_meta_graph(\"./saved/my_test_sess3.meta\")\n",
    "    train_op = tf.get_collection('variables')         # variables 확인\n",
    "\n",
    "print(train_op)\n",
    "[node.name for node in im1_graph.as_graph_def().node] "
   ]
  },
  {
   "cell_type": "code",
   "execution_count": 18,
   "id": "d1cdf1a7",
   "metadata": {},
   "outputs": [
    {
     "name": "stdout",
     "output_type": "stream",
     "text": [
      "INFO:tensorflow:Restoring parameters from ./saved\\my_test_sess3\n",
      "[27]\n",
      "30\n"
     ]
    }
   ],
   "source": [
    "with tf.Session(graph = im1_graph) as im1_sess:\n",
    "    im1_saver.restore(im1_sess, tf.train.latest_checkpoint('./saved'))\n",
    "\n",
    "    # 기존 graph에 있는 변수를 가져와 새로 지정\n",
    "    new_v0 = im1_graph.get_tensor_by_name(\"V0:0\")\n",
    "    new_v3 = im1_graph.get_tensor_by_name(\"add:0\")\n",
    "    feed_dict = {new_v0:7}\n",
    "    output1 = im1_sess.run([new_v3], feed_dict = feed_dict)\n",
    "    \n",
    "    # 기존 그래프에 새로운 그래프를 연결하여 연산\n",
    "    new_v1 = im1_graph.get_tensor_by_name(\"V1:0\")\n",
    "    new_op = tf.multiply(new_v1, 3, name=\"multiply\")\n",
    "    output2 = im1_sess.run(new_op)    \n",
    "    \n",
    "        \n",
    "print(output1)\n",
    "print(output2)"
   ]
  },
  {
   "cell_type": "markdown",
   "id": "6fb8fc25",
   "metadata": {},
   "source": [
    "## 1-9. pb file 만들기 (Freeze)\n",
    "\n",
    "- 그래프를 고정한다 라고 이야기 하기도 함.\n",
    "- 더 이상 학습이 안되도록 모델의 구조를 가중치와 결합하는 작업.\n",
    "- 안드로이드나 다른 디바이스에 포팅하기 위함"
   ]
  },
  {
   "cell_type": "markdown",
   "id": "4f33ad64",
   "metadata": {},
   "source": [
    "** tf.train.write_graph( graph_or_graph_def, logdir, name, as_text=True )\n",
    "- as_text=True 또는 생략은 pbtxt 파일이 생성되며, False는 pb파일이 생성됨."
   ]
  },
  {
   "cell_type": "code",
   "execution_count": 19,
   "id": "6247305d",
   "metadata": {},
   "outputs": [
    {
     "data": {
      "text/plain": [
       "'./saved\\\\my_test_sess3.pb'"
      ]
     },
     "execution_count": 19,
     "metadata": {},
     "output_type": "execute_result"
    }
   ],
   "source": [
    "tf.train.write_graph(sess3.graph_def,'./saved','my_test_sess3.pbtxt', as_text=True)\n",
    "tf.train.write_graph(sess3.graph_def,'./saved','my_test_sess3.pb', as_text=False)"
   ]
  },
  {
   "cell_type": "markdown",
   "id": "0855b171",
   "metadata": {},
   "source": [
    "## 1-10. pb file 불러와서 graph에 입력하기"
   ]
  },
  {
   "cell_type": "code",
   "execution_count": 20,
   "id": "3df7c81c",
   "metadata": {},
   "outputs": [],
   "source": [
    "im2_graph = tf.Graph()\n",
    "with im2_graph.as_default():\n",
    "    im2_graph_def = tf.GraphDef()\n",
    "    with tf.gfile.FastGFile('./saved/my_test_sess3.pb', 'rb') as f:\n",
    "        im2_graph_def.ParseFromString(f.read())\n",
    "        tf.import_graph_def(im2_graph_def, name=\"\")"
   ]
  },
  {
   "cell_type": "code",
   "execution_count": 21,
   "id": "1804cade",
   "metadata": {
    "scrolled": true
   },
   "outputs": [
    {
     "data": {
      "text/plain": [
       "['V0',\n",
       " 'V1/initial_value',\n",
       " 'V1',\n",
       " 'V1/Assign',\n",
       " 'V1/read',\n",
       " 'V2/initial_value',\n",
       " 'V2',\n",
       " 'V2/Assign',\n",
       " 'V2/read',\n",
       " 'add',\n",
       " 'save/Const',\n",
       " 'save/SaveV2/tensor_names',\n",
       " 'save/SaveV2/shape_and_slices',\n",
       " 'save/SaveV2',\n",
       " 'save/control_dependency',\n",
       " 'save/RestoreV2/tensor_names',\n",
       " 'save/RestoreV2/shape_and_slices',\n",
       " 'save/RestoreV2',\n",
       " 'save/Assign',\n",
       " 'save/RestoreV2_1/tensor_names',\n",
       " 'save/RestoreV2_1/shape_and_slices',\n",
       " 'save/RestoreV2_1',\n",
       " 'save/Assign_1',\n",
       " 'save/restore_all',\n",
       " 'init']"
      ]
     },
     "execution_count": 21,
     "metadata": {},
     "output_type": "execute_result"
    }
   ],
   "source": [
    "[node.name for node in im2_graph.as_graph_def().node] "
   ]
  },
  {
   "cell_type": "code",
   "execution_count": 22,
   "id": "23ea976a",
   "metadata": {},
   "outputs": [
    {
     "ename": "FailedPreconditionError",
     "evalue": "Attempting to use uninitialized value V2\n\t [[Node: V2/read = Identity[T=DT_INT32, _class=[\"loc:@V2\"], _device=\"/job:localhost/replica:0/task:0/device:CPU:0\"](V2)]]\n\nCaused by op 'V2/read', defined at:\n  File \"D:\\anaconda3\\envs\\tf16\\lib\\runpy.py\", line 193, in _run_module_as_main\n    \"__main__\", mod_spec)\n  File \"D:\\anaconda3\\envs\\tf16\\lib\\runpy.py\", line 85, in _run_code\n    exec(code, run_globals)\n  File \"D:\\anaconda3\\envs\\tf16\\lib\\site-packages\\ipykernel_launcher.py\", line 16, in <module>\n    app.launch_new_instance()\n  File \"D:\\anaconda3\\envs\\tf16\\lib\\site-packages\\traitlets\\config\\application.py\", line 664, in launch_instance\n    app.start()\n  File \"D:\\anaconda3\\envs\\tf16\\lib\\site-packages\\ipykernel\\kernelapp.py\", line 612, in start\n    self.io_loop.start()\n  File \"D:\\anaconda3\\envs\\tf16\\lib\\site-packages\\tornado\\platform\\asyncio.py\", line 199, in start\n    self.asyncio_loop.run_forever()\n  File \"D:\\anaconda3\\envs\\tf16\\lib\\asyncio\\base_events.py\", line 442, in run_forever\n    self._run_once()\n  File \"D:\\anaconda3\\envs\\tf16\\lib\\asyncio\\base_events.py\", line 1462, in _run_once\n    handle._run()\n  File \"D:\\anaconda3\\envs\\tf16\\lib\\asyncio\\events.py\", line 145, in _run\n    self._callback(*self._args)\n  File \"D:\\anaconda3\\envs\\tf16\\lib\\site-packages\\tornado\\ioloop.py\", line 688, in <lambda>\n    lambda f: self._run_callback(functools.partial(callback, future))\n  File \"D:\\anaconda3\\envs\\tf16\\lib\\site-packages\\tornado\\ioloop.py\", line 741, in _run_callback\n    ret = callback()\n  File \"D:\\anaconda3\\envs\\tf16\\lib\\site-packages\\tornado\\gen.py\", line 814, in inner\n    self.ctx_run(self.run)\n  File \"D:\\anaconda3\\envs\\tf16\\lib\\site-packages\\tornado\\gen.py\", line 162, in _fake_ctx_run\n    return f(*args, **kw)\n  File \"D:\\anaconda3\\envs\\tf16\\lib\\site-packages\\tornado\\gen.py\", line 775, in run\n    yielded = self.gen.send(value)\n  File \"D:\\anaconda3\\envs\\tf16\\lib\\site-packages\\ipykernel\\kernelbase.py\", line 365, in process_one\n    yield gen.maybe_future(dispatch(*args))\n  File \"D:\\anaconda3\\envs\\tf16\\lib\\site-packages\\tornado\\gen.py\", line 234, in wrapper\n    yielded = ctx_run(next, result)\n  File \"D:\\anaconda3\\envs\\tf16\\lib\\site-packages\\tornado\\gen.py\", line 162, in _fake_ctx_run\n    return f(*args, **kw)\n  File \"D:\\anaconda3\\envs\\tf16\\lib\\site-packages\\ipykernel\\kernelbase.py\", line 268, in dispatch_shell\n    yield gen.maybe_future(handler(stream, idents, msg))\n  File \"D:\\anaconda3\\envs\\tf16\\lib\\site-packages\\tornado\\gen.py\", line 234, in wrapper\n    yielded = ctx_run(next, result)\n  File \"D:\\anaconda3\\envs\\tf16\\lib\\site-packages\\tornado\\gen.py\", line 162, in _fake_ctx_run\n    return f(*args, **kw)\n  File \"D:\\anaconda3\\envs\\tf16\\lib\\site-packages\\ipykernel\\kernelbase.py\", line 545, in execute_request\n    user_expressions, allow_stdin,\n  File \"D:\\anaconda3\\envs\\tf16\\lib\\site-packages\\tornado\\gen.py\", line 234, in wrapper\n    yielded = ctx_run(next, result)\n  File \"D:\\anaconda3\\envs\\tf16\\lib\\site-packages\\tornado\\gen.py\", line 162, in _fake_ctx_run\n    return f(*args, **kw)\n  File \"D:\\anaconda3\\envs\\tf16\\lib\\site-packages\\ipykernel\\ipkernel.py\", line 306, in do_execute\n    res = shell.run_cell(code, store_history=store_history, silent=silent)\n  File \"D:\\anaconda3\\envs\\tf16\\lib\\site-packages\\ipykernel\\zmqshell.py\", line 536, in run_cell\n    return super(ZMQInteractiveShell, self).run_cell(*args, **kwargs)\n  File \"D:\\anaconda3\\envs\\tf16\\lib\\site-packages\\IPython\\core\\interactiveshell.py\", line 2867, in run_cell\n    raw_cell, store_history, silent, shell_futures)\n  File \"D:\\anaconda3\\envs\\tf16\\lib\\site-packages\\IPython\\core\\interactiveshell.py\", line 2895, in _run_cell\n    return runner(coro)\n  File \"D:\\anaconda3\\envs\\tf16\\lib\\site-packages\\IPython\\core\\async_helpers.py\", line 68, in _pseudo_sync_runner\n    coro.send(None)\n  File \"D:\\anaconda3\\envs\\tf16\\lib\\site-packages\\IPython\\core\\interactiveshell.py\", line 3072, in run_cell_async\n    interactivity=interactivity, compiler=compiler, result=result)\n  File \"D:\\anaconda3\\envs\\tf16\\lib\\site-packages\\IPython\\core\\interactiveshell.py\", line 3263, in run_ast_nodes\n    if (await self.run_code(code, result,  async_=asy)):\n  File \"D:\\anaconda3\\envs\\tf16\\lib\\site-packages\\IPython\\core\\interactiveshell.py\", line 3343, in run_code\n    exec(code_obj, self.user_global_ns, self.user_ns)\n  File \"<ipython-input-20-0b21ea4fe987>\", line 6, in <module>\n    tf.import_graph_def(im2_graph_def, name=\"\")\n  File \"D:\\anaconda3\\envs\\tf16\\lib\\site-packages\\tensorflow\\python\\util\\deprecation.py\", line 316, in new_func\n    return func(*args, **kwargs)\n  File \"D:\\anaconda3\\envs\\tf16\\lib\\site-packages\\tensorflow\\python\\framework\\importer.py\", line 554, in import_graph_def\n    op_def=op_def)\n  File \"D:\\anaconda3\\envs\\tf16\\lib\\site-packages\\tensorflow\\python\\framework\\ops.py\", line 3160, in create_op\n    op_def=op_def)\n  File \"D:\\anaconda3\\envs\\tf16\\lib\\site-packages\\tensorflow\\python\\framework\\ops.py\", line 1625, in __init__\n    self._traceback = self._graph._extract_stack()  # pylint: disable=protected-access\n\nFailedPreconditionError (see above for traceback): Attempting to use uninitialized value V2\n\t [[Node: V2/read = Identity[T=DT_INT32, _class=[\"loc:@V2\"], _device=\"/job:localhost/replica:0/task:0/device:CPU:0\"](V2)]]\n",
     "output_type": "error",
     "traceback": [
      "\u001b[1;31m---------------------------------------------------------------------------\u001b[0m",
      "\u001b[1;31mFailedPreconditionError\u001b[0m                   Traceback (most recent call last)",
      "\u001b[1;32mD:\\anaconda3\\envs\\tf16\\lib\\site-packages\\tensorflow\\python\\client\\session.py\u001b[0m in \u001b[0;36m_do_call\u001b[1;34m(self, fn, *args)\u001b[0m\n\u001b[0;32m   1349\u001b[0m     \u001b[1;32mtry\u001b[0m\u001b[1;33m:\u001b[0m\u001b[1;33m\u001b[0m\u001b[1;33m\u001b[0m\u001b[0m\n\u001b[1;32m-> 1350\u001b[1;33m       \u001b[1;32mreturn\u001b[0m \u001b[0mfn\u001b[0m\u001b[1;33m(\u001b[0m\u001b[1;33m*\u001b[0m\u001b[0margs\u001b[0m\u001b[1;33m)\u001b[0m\u001b[1;33m\u001b[0m\u001b[1;33m\u001b[0m\u001b[0m\n\u001b[0m\u001b[0;32m   1351\u001b[0m     \u001b[1;32mexcept\u001b[0m \u001b[0merrors\u001b[0m\u001b[1;33m.\u001b[0m\u001b[0mOpError\u001b[0m \u001b[1;32mas\u001b[0m \u001b[0me\u001b[0m\u001b[1;33m:\u001b[0m\u001b[1;33m\u001b[0m\u001b[1;33m\u001b[0m\u001b[0m\n",
      "\u001b[1;32mD:\\anaconda3\\envs\\tf16\\lib\\site-packages\\tensorflow\\python\\client\\session.py\u001b[0m in \u001b[0;36m_run_fn\u001b[1;34m(session, feed_dict, fetch_list, target_list, options, run_metadata)\u001b[0m\n\u001b[0;32m   1328\u001b[0m                                    \u001b[0mfeed_dict\u001b[0m\u001b[1;33m,\u001b[0m \u001b[0mfetch_list\u001b[0m\u001b[1;33m,\u001b[0m \u001b[0mtarget_list\u001b[0m\u001b[1;33m,\u001b[0m\u001b[1;33m\u001b[0m\u001b[1;33m\u001b[0m\u001b[0m\n\u001b[1;32m-> 1329\u001b[1;33m                                    status, run_metadata)\n\u001b[0m\u001b[0;32m   1330\u001b[0m \u001b[1;33m\u001b[0m\u001b[0m\n",
      "\u001b[1;32mD:\\anaconda3\\envs\\tf16\\lib\\site-packages\\tensorflow\\python\\framework\\errors_impl.py\u001b[0m in \u001b[0;36m__exit__\u001b[1;34m(self, type_arg, value_arg, traceback_arg)\u001b[0m\n\u001b[0;32m    472\u001b[0m             \u001b[0mcompat\u001b[0m\u001b[1;33m.\u001b[0m\u001b[0mas_text\u001b[0m\u001b[1;33m(\u001b[0m\u001b[0mc_api\u001b[0m\u001b[1;33m.\u001b[0m\u001b[0mTF_Message\u001b[0m\u001b[1;33m(\u001b[0m\u001b[0mself\u001b[0m\u001b[1;33m.\u001b[0m\u001b[0mstatus\u001b[0m\u001b[1;33m.\u001b[0m\u001b[0mstatus\u001b[0m\u001b[1;33m)\u001b[0m\u001b[1;33m)\u001b[0m\u001b[1;33m,\u001b[0m\u001b[1;33m\u001b[0m\u001b[1;33m\u001b[0m\u001b[0m\n\u001b[1;32m--> 473\u001b[1;33m             c_api.TF_GetCode(self.status.status))\n\u001b[0m\u001b[0;32m    474\u001b[0m     \u001b[1;31m# Delete the underlying status object from memory otherwise it stays alive\u001b[0m\u001b[1;33m\u001b[0m\u001b[1;33m\u001b[0m\u001b[1;33m\u001b[0m\u001b[0m\n",
      "\u001b[1;31mFailedPreconditionError\u001b[0m: Attempting to use uninitialized value V2\n\t [[Node: V2/read = Identity[T=DT_INT32, _class=[\"loc:@V2\"], _device=\"/job:localhost/replica:0/task:0/device:CPU:0\"](V2)]]",
      "\nDuring handling of the above exception, another exception occurred:\n",
      "\u001b[1;31mFailedPreconditionError\u001b[0m                   Traceback (most recent call last)",
      "\u001b[1;32m<ipython-input-22-c37ac323e0a4>\u001b[0m in \u001b[0;36m<module>\u001b[1;34m\u001b[0m\n\u001b[0;32m      7\u001b[0m     \u001b[0mnew_v3\u001b[0m \u001b[1;33m=\u001b[0m \u001b[0mim2_graph\u001b[0m\u001b[1;33m.\u001b[0m\u001b[0mget_tensor_by_name\u001b[0m\u001b[1;33m(\u001b[0m\u001b[1;34m\"add:0\"\u001b[0m\u001b[1;33m)\u001b[0m\u001b[1;33m\u001b[0m\u001b[1;33m\u001b[0m\u001b[0m\n\u001b[0;32m      8\u001b[0m     \u001b[0mfeed_dict\u001b[0m \u001b[1;33m=\u001b[0m \u001b[1;33m{\u001b[0m\u001b[0mnew_v0\u001b[0m\u001b[1;33m:\u001b[0m\u001b[1;36m7\u001b[0m\u001b[1;33m}\u001b[0m\u001b[1;33m\u001b[0m\u001b[1;33m\u001b[0m\u001b[0m\n\u001b[1;32m----> 9\u001b[1;33m     \u001b[0moutput1\u001b[0m \u001b[1;33m=\u001b[0m \u001b[0mim2_sess\u001b[0m\u001b[1;33m.\u001b[0m\u001b[0mrun\u001b[0m\u001b[1;33m(\u001b[0m\u001b[1;33m[\u001b[0m\u001b[0mnew_v3\u001b[0m\u001b[1;33m]\u001b[0m\u001b[1;33m,\u001b[0m \u001b[0mfeed_dict\u001b[0m \u001b[1;33m=\u001b[0m \u001b[0mfeed_dict\u001b[0m\u001b[1;33m)\u001b[0m\u001b[1;33m\u001b[0m\u001b[1;33m\u001b[0m\u001b[0m\n\u001b[0m\u001b[0;32m     10\u001b[0m \u001b[1;33m\u001b[0m\u001b[0m\n\u001b[0;32m     11\u001b[0m \u001b[0mprint\u001b[0m\u001b[1;33m(\u001b[0m\u001b[0moutput1\u001b[0m\u001b[1;33m)\u001b[0m\u001b[1;33m\u001b[0m\u001b[1;33m\u001b[0m\u001b[0m\n",
      "\u001b[1;32mD:\\anaconda3\\envs\\tf16\\lib\\site-packages\\tensorflow\\python\\client\\session.py\u001b[0m in \u001b[0;36mrun\u001b[1;34m(self, fetches, feed_dict, options, run_metadata)\u001b[0m\n\u001b[0;32m    893\u001b[0m     \u001b[1;32mtry\u001b[0m\u001b[1;33m:\u001b[0m\u001b[1;33m\u001b[0m\u001b[1;33m\u001b[0m\u001b[0m\n\u001b[0;32m    894\u001b[0m       result = self._run(None, fetches, feed_dict, options_ptr,\n\u001b[1;32m--> 895\u001b[1;33m                          run_metadata_ptr)\n\u001b[0m\u001b[0;32m    896\u001b[0m       \u001b[1;32mif\u001b[0m \u001b[0mrun_metadata\u001b[0m\u001b[1;33m:\u001b[0m\u001b[1;33m\u001b[0m\u001b[1;33m\u001b[0m\u001b[0m\n\u001b[0;32m    897\u001b[0m         \u001b[0mproto_data\u001b[0m \u001b[1;33m=\u001b[0m \u001b[0mtf_session\u001b[0m\u001b[1;33m.\u001b[0m\u001b[0mTF_GetBuffer\u001b[0m\u001b[1;33m(\u001b[0m\u001b[0mrun_metadata_ptr\u001b[0m\u001b[1;33m)\u001b[0m\u001b[1;33m\u001b[0m\u001b[1;33m\u001b[0m\u001b[0m\n",
      "\u001b[1;32mD:\\anaconda3\\envs\\tf16\\lib\\site-packages\\tensorflow\\python\\client\\session.py\u001b[0m in \u001b[0;36m_run\u001b[1;34m(self, handle, fetches, feed_dict, options, run_metadata)\u001b[0m\n\u001b[0;32m   1126\u001b[0m     \u001b[1;32mif\u001b[0m \u001b[0mfinal_fetches\u001b[0m \u001b[1;32mor\u001b[0m \u001b[0mfinal_targets\u001b[0m \u001b[1;32mor\u001b[0m \u001b[1;33m(\u001b[0m\u001b[0mhandle\u001b[0m \u001b[1;32mand\u001b[0m \u001b[0mfeed_dict_tensor\u001b[0m\u001b[1;33m)\u001b[0m\u001b[1;33m:\u001b[0m\u001b[1;33m\u001b[0m\u001b[1;33m\u001b[0m\u001b[0m\n\u001b[0;32m   1127\u001b[0m       results = self._do_run(handle, final_targets, final_fetches,\n\u001b[1;32m-> 1128\u001b[1;33m                              feed_dict_tensor, options, run_metadata)\n\u001b[0m\u001b[0;32m   1129\u001b[0m     \u001b[1;32melse\u001b[0m\u001b[1;33m:\u001b[0m\u001b[1;33m\u001b[0m\u001b[1;33m\u001b[0m\u001b[0m\n\u001b[0;32m   1130\u001b[0m       \u001b[0mresults\u001b[0m \u001b[1;33m=\u001b[0m \u001b[1;33m[\u001b[0m\u001b[1;33m]\u001b[0m\u001b[1;33m\u001b[0m\u001b[1;33m\u001b[0m\u001b[0m\n",
      "\u001b[1;32mD:\\anaconda3\\envs\\tf16\\lib\\site-packages\\tensorflow\\python\\client\\session.py\u001b[0m in \u001b[0;36m_do_run\u001b[1;34m(self, handle, target_list, fetch_list, feed_dict, options, run_metadata)\u001b[0m\n\u001b[0;32m   1342\u001b[0m     \u001b[1;32mif\u001b[0m \u001b[0mhandle\u001b[0m \u001b[1;32mis\u001b[0m \u001b[1;32mNone\u001b[0m\u001b[1;33m:\u001b[0m\u001b[1;33m\u001b[0m\u001b[1;33m\u001b[0m\u001b[0m\n\u001b[0;32m   1343\u001b[0m       return self._do_call(_run_fn, self._session, feeds, fetches, targets,\n\u001b[1;32m-> 1344\u001b[1;33m                            options, run_metadata)\n\u001b[0m\u001b[0;32m   1345\u001b[0m     \u001b[1;32melse\u001b[0m\u001b[1;33m:\u001b[0m\u001b[1;33m\u001b[0m\u001b[1;33m\u001b[0m\u001b[0m\n\u001b[0;32m   1346\u001b[0m       \u001b[1;32mreturn\u001b[0m \u001b[0mself\u001b[0m\u001b[1;33m.\u001b[0m\u001b[0m_do_call\u001b[0m\u001b[1;33m(\u001b[0m\u001b[0m_prun_fn\u001b[0m\u001b[1;33m,\u001b[0m \u001b[0mself\u001b[0m\u001b[1;33m.\u001b[0m\u001b[0m_session\u001b[0m\u001b[1;33m,\u001b[0m \u001b[0mhandle\u001b[0m\u001b[1;33m,\u001b[0m \u001b[0mfeeds\u001b[0m\u001b[1;33m,\u001b[0m \u001b[0mfetches\u001b[0m\u001b[1;33m)\u001b[0m\u001b[1;33m\u001b[0m\u001b[1;33m\u001b[0m\u001b[0m\n",
      "\u001b[1;32mD:\\anaconda3\\envs\\tf16\\lib\\site-packages\\tensorflow\\python\\client\\session.py\u001b[0m in \u001b[0;36m_do_call\u001b[1;34m(self, fn, *args)\u001b[0m\n\u001b[0;32m   1361\u001b[0m         \u001b[1;32mexcept\u001b[0m \u001b[0mKeyError\u001b[0m\u001b[1;33m:\u001b[0m\u001b[1;33m\u001b[0m\u001b[1;33m\u001b[0m\u001b[0m\n\u001b[0;32m   1362\u001b[0m           \u001b[1;32mpass\u001b[0m\u001b[1;33m\u001b[0m\u001b[1;33m\u001b[0m\u001b[0m\n\u001b[1;32m-> 1363\u001b[1;33m       \u001b[1;32mraise\u001b[0m \u001b[0mtype\u001b[0m\u001b[1;33m(\u001b[0m\u001b[0me\u001b[0m\u001b[1;33m)\u001b[0m\u001b[1;33m(\u001b[0m\u001b[0mnode_def\u001b[0m\u001b[1;33m,\u001b[0m \u001b[0mop\u001b[0m\u001b[1;33m,\u001b[0m \u001b[0mmessage\u001b[0m\u001b[1;33m)\u001b[0m\u001b[1;33m\u001b[0m\u001b[1;33m\u001b[0m\u001b[0m\n\u001b[0m\u001b[0;32m   1364\u001b[0m \u001b[1;33m\u001b[0m\u001b[0m\n\u001b[0;32m   1365\u001b[0m   \u001b[1;32mdef\u001b[0m \u001b[0m_extend_graph\u001b[0m\u001b[1;33m(\u001b[0m\u001b[0mself\u001b[0m\u001b[1;33m)\u001b[0m\u001b[1;33m:\u001b[0m\u001b[1;33m\u001b[0m\u001b[1;33m\u001b[0m\u001b[0m\n",
      "\u001b[1;31mFailedPreconditionError\u001b[0m: Attempting to use uninitialized value V2\n\t [[Node: V2/read = Identity[T=DT_INT32, _class=[\"loc:@V2\"], _device=\"/job:localhost/replica:0/task:0/device:CPU:0\"](V2)]]\n\nCaused by op 'V2/read', defined at:\n  File \"D:\\anaconda3\\envs\\tf16\\lib\\runpy.py\", line 193, in _run_module_as_main\n    \"__main__\", mod_spec)\n  File \"D:\\anaconda3\\envs\\tf16\\lib\\runpy.py\", line 85, in _run_code\n    exec(code, run_globals)\n  File \"D:\\anaconda3\\envs\\tf16\\lib\\site-packages\\ipykernel_launcher.py\", line 16, in <module>\n    app.launch_new_instance()\n  File \"D:\\anaconda3\\envs\\tf16\\lib\\site-packages\\traitlets\\config\\application.py\", line 664, in launch_instance\n    app.start()\n  File \"D:\\anaconda3\\envs\\tf16\\lib\\site-packages\\ipykernel\\kernelapp.py\", line 612, in start\n    self.io_loop.start()\n  File \"D:\\anaconda3\\envs\\tf16\\lib\\site-packages\\tornado\\platform\\asyncio.py\", line 199, in start\n    self.asyncio_loop.run_forever()\n  File \"D:\\anaconda3\\envs\\tf16\\lib\\asyncio\\base_events.py\", line 442, in run_forever\n    self._run_once()\n  File \"D:\\anaconda3\\envs\\tf16\\lib\\asyncio\\base_events.py\", line 1462, in _run_once\n    handle._run()\n  File \"D:\\anaconda3\\envs\\tf16\\lib\\asyncio\\events.py\", line 145, in _run\n    self._callback(*self._args)\n  File \"D:\\anaconda3\\envs\\tf16\\lib\\site-packages\\tornado\\ioloop.py\", line 688, in <lambda>\n    lambda f: self._run_callback(functools.partial(callback, future))\n  File \"D:\\anaconda3\\envs\\tf16\\lib\\site-packages\\tornado\\ioloop.py\", line 741, in _run_callback\n    ret = callback()\n  File \"D:\\anaconda3\\envs\\tf16\\lib\\site-packages\\tornado\\gen.py\", line 814, in inner\n    self.ctx_run(self.run)\n  File \"D:\\anaconda3\\envs\\tf16\\lib\\site-packages\\tornado\\gen.py\", line 162, in _fake_ctx_run\n    return f(*args, **kw)\n  File \"D:\\anaconda3\\envs\\tf16\\lib\\site-packages\\tornado\\gen.py\", line 775, in run\n    yielded = self.gen.send(value)\n  File \"D:\\anaconda3\\envs\\tf16\\lib\\site-packages\\ipykernel\\kernelbase.py\", line 365, in process_one\n    yield gen.maybe_future(dispatch(*args))\n  File \"D:\\anaconda3\\envs\\tf16\\lib\\site-packages\\tornado\\gen.py\", line 234, in wrapper\n    yielded = ctx_run(next, result)\n  File \"D:\\anaconda3\\envs\\tf16\\lib\\site-packages\\tornado\\gen.py\", line 162, in _fake_ctx_run\n    return f(*args, **kw)\n  File \"D:\\anaconda3\\envs\\tf16\\lib\\site-packages\\ipykernel\\kernelbase.py\", line 268, in dispatch_shell\n    yield gen.maybe_future(handler(stream, idents, msg))\n  File \"D:\\anaconda3\\envs\\tf16\\lib\\site-packages\\tornado\\gen.py\", line 234, in wrapper\n    yielded = ctx_run(next, result)\n  File \"D:\\anaconda3\\envs\\tf16\\lib\\site-packages\\tornado\\gen.py\", line 162, in _fake_ctx_run\n    return f(*args, **kw)\n  File \"D:\\anaconda3\\envs\\tf16\\lib\\site-packages\\ipykernel\\kernelbase.py\", line 545, in execute_request\n    user_expressions, allow_stdin,\n  File \"D:\\anaconda3\\envs\\tf16\\lib\\site-packages\\tornado\\gen.py\", line 234, in wrapper\n    yielded = ctx_run(next, result)\n  File \"D:\\anaconda3\\envs\\tf16\\lib\\site-packages\\tornado\\gen.py\", line 162, in _fake_ctx_run\n    return f(*args, **kw)\n  File \"D:\\anaconda3\\envs\\tf16\\lib\\site-packages\\ipykernel\\ipkernel.py\", line 306, in do_execute\n    res = shell.run_cell(code, store_history=store_history, silent=silent)\n  File \"D:\\anaconda3\\envs\\tf16\\lib\\site-packages\\ipykernel\\zmqshell.py\", line 536, in run_cell\n    return super(ZMQInteractiveShell, self).run_cell(*args, **kwargs)\n  File \"D:\\anaconda3\\envs\\tf16\\lib\\site-packages\\IPython\\core\\interactiveshell.py\", line 2867, in run_cell\n    raw_cell, store_history, silent, shell_futures)\n  File \"D:\\anaconda3\\envs\\tf16\\lib\\site-packages\\IPython\\core\\interactiveshell.py\", line 2895, in _run_cell\n    return runner(coro)\n  File \"D:\\anaconda3\\envs\\tf16\\lib\\site-packages\\IPython\\core\\async_helpers.py\", line 68, in _pseudo_sync_runner\n    coro.send(None)\n  File \"D:\\anaconda3\\envs\\tf16\\lib\\site-packages\\IPython\\core\\interactiveshell.py\", line 3072, in run_cell_async\n    interactivity=interactivity, compiler=compiler, result=result)\n  File \"D:\\anaconda3\\envs\\tf16\\lib\\site-packages\\IPython\\core\\interactiveshell.py\", line 3263, in run_ast_nodes\n    if (await self.run_code(code, result,  async_=asy)):\n  File \"D:\\anaconda3\\envs\\tf16\\lib\\site-packages\\IPython\\core\\interactiveshell.py\", line 3343, in run_code\n    exec(code_obj, self.user_global_ns, self.user_ns)\n  File \"<ipython-input-20-0b21ea4fe987>\", line 6, in <module>\n    tf.import_graph_def(im2_graph_def, name=\"\")\n  File \"D:\\anaconda3\\envs\\tf16\\lib\\site-packages\\tensorflow\\python\\util\\deprecation.py\", line 316, in new_func\n    return func(*args, **kwargs)\n  File \"D:\\anaconda3\\envs\\tf16\\lib\\site-packages\\tensorflow\\python\\framework\\importer.py\", line 554, in import_graph_def\n    op_def=op_def)\n  File \"D:\\anaconda3\\envs\\tf16\\lib\\site-packages\\tensorflow\\python\\framework\\ops.py\", line 3160, in create_op\n    op_def=op_def)\n  File \"D:\\anaconda3\\envs\\tf16\\lib\\site-packages\\tensorflow\\python\\framework\\ops.py\", line 1625, in __init__\n    self._traceback = self._graph._extract_stack()  # pylint: disable=protected-access\n\nFailedPreconditionError (see above for traceback): Attempting to use uninitialized value V2\n\t [[Node: V2/read = Identity[T=DT_INT32, _class=[\"loc:@V2\"], _device=\"/job:localhost/replica:0/task:0/device:CPU:0\"](V2)]]\n"
     ]
    }
   ],
   "source": [
    "# tf.initialize_all_variables().run()\n",
    "\n",
    "with tf.Session(graph=im2_graph) as im2_sess:\n",
    "    # 기존 graph에 있는 변수를 가져와 새로 지정\n",
    "    im2_sess.run(tf.global_variables_initializer())\n",
    "    new_v0 = im2_graph.get_tensor_by_name(\"V0:0\")\n",
    "    new_v3 = im2_graph.get_tensor_by_name(\"add:0\")\n",
    "    feed_dict = {new_v0:7}\n",
    "    output1 = im2_sess.run([new_v3], feed_dict = feed_dict)\n",
    "\n",
    "print(output1)"
   ]
  }
 ],
 "metadata": {
  "kernelspec": {
   "display_name": "Python 3",
   "language": "python",
   "name": "python3"
  },
  "language_info": {
   "codemirror_mode": {
    "name": "ipython",
    "version": 3
   },
   "file_extension": ".py",
   "mimetype": "text/x-python",
   "name": "python",
   "nbconvert_exporter": "python",
   "pygments_lexer": "ipython3",
   "version": "3.6.12"
  }
 },
 "nbformat": 4,
 "nbformat_minor": 5
}
